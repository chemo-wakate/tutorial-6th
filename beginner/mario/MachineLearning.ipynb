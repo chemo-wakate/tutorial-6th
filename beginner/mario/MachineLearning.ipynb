{
 "cells": [
  {
   "cell_type": "markdown",
   "metadata": {},
   "source": [
    "<h3 STYLE=\"background: #c2edff;padding: 0.5em;\">Step 5. 機械学習で二値分類</h3>\n",
    "\n",
    "<ol>\n",
    "<li><a href=\"#1\">「ワインの品質」データ読み込み</a>\n",
    "<li><a href=\"#2\">２群に分ける</a>\n",
    "<li><a href=\"#3\">説明変数と目的変数に分ける</a>\n",
    "<li><a href=\"#4\">訓練データとテストデータに分ける</a>\n",
    "<li><a href=\"#5\">ロジスティク回帰</a>\n",
    "<li><a href=\"#6\">いろんな機械学習手法を比較する</a>\n",
    "</ol>\n",
    "<h4 style=\"border-bottom: solid 1px black;\">Step 5 の目標</h4>\n",
    "\n",
    "様々な機械学習法で二分類を行って性能評価する。\n",
    "<img src=\"fig/cv.png\">"
   ]
  },
  {
   "cell_type": "code",
   "execution_count": null,
   "metadata": {
    "collapsed": true
   },
   "outputs": [],
   "source": [
    "# 数値計算やデータフレーム操作に関するライブラリをインポートする\n",
    "import numpy as np\n",
    "import pandas as pd\n",
    "import scipy as sp\n",
    "from scipy import stats"
   ]
  },
  {
   "cell_type": "code",
   "execution_count": null,
   "metadata": {
    "collapsed": true
   },
   "outputs": [],
   "source": [
    "# URL によるリソースへのアクセスを提供するライブラリをインポートする。\n",
    "# import urllib # Python 2 の場合\n",
    "import urllib.request # Python 3 の場合"
   ]
  },
  {
   "cell_type": "code",
   "execution_count": null,
   "metadata": {
    "collapsed": true
   },
   "outputs": [],
   "source": [
    "# 図やグラフを図示するためのライブラリをインポートする。\n",
    "%matplotlib inline\n",
    "import matplotlib.pyplot as plt\n",
    "from pandas.tools import plotting"
   ]
  },
  {
   "cell_type": "code",
   "execution_count": null,
   "metadata": {
    "collapsed": true
   },
   "outputs": [],
   "source": [
    "# 機械学習関連のライブラリ群\n",
    "\n",
    "from sklearn.cross_validation import train_test_split # 訓練データとテストデータに分割\n",
    "from sklearn.metrics import confusion_matrix # 混合行列\n",
    "\n",
    "from sklearn.decomposition import PCA #主成分分析\n",
    "from sklearn.linear_model import LogisticRegression # ロジスティック回帰\n",
    "from sklearn.neighbors import KNeighborsClassifier # K近傍法\n",
    "from sklearn.svm import SVC # サポートベクターマシン\n",
    "from sklearn.tree import DecisionTreeClassifier # 決定木\n",
    "from sklearn.ensemble import RandomForestClassifier # ランダムフォレスト\n",
    "from sklearn.ensemble import AdaBoostClassifier # AdaBoost\n",
    "from sklearn.naive_bayes import GaussianNB # ナイーブ・ベイズ\n",
    "from sklearn.lda import LDA # 線形判別分析\n",
    "from sklearn.qda import QDA # 二次判別分析"
   ]
  },
  {
   "cell_type": "markdown",
   "metadata": {},
   "source": [
    "<h3 STYLE=\"background: #c2edff;padding: 0.5em;\"><a name=\"1\">1. 「ワインの品質」データ読み込み</a></h3>\n",
    "\n",
    "データは <a href=\"http://archive.ics.uci.edu/ml/index.php\" target=\"_blank\">UC Irvine Machine Learning Repository</a> から取得したものを少し改変しました。\n",
    "\n",
    "* 赤ワイン https://raw.githubusercontent.com/chemo-wakate/tutorial-6th/master/beginner/data/winequality-red.txt\n",
    "\n",
    "* 白ワイン https://raw.githubusercontent.com/chemo-wakate/tutorial-6th/master/beginner/data/winequality-white.txt\n",
    "\n",
    "<h4 style=\"border-bottom: solid 1px black;\">　<a href=\"http://archive.ics.uci.edu/ml/machine-learning-databases/wine-quality/winequality.names\">詳細</a></h4>\n",
    "\n",
    "<ol>\n",
    "<li>fixed acidity : 不揮発酸濃度（ほぼ酒石酸濃度）\n",
    "<li>volatile acidity : 揮発酸濃度（ほぼ酢酸濃度）\n",
    "<li>citric acid : クエン酸濃度\n",
    "<li>residual sugar : 残存糖濃度\n",
    "<li>chlorides : 塩化物濃度\n",
    "<li>free sulfur dioxide : 遊離亜硫酸濃度\n",
    "<li>total sulfur dioxide : 亜硫酸濃度\n",
    "<li>density : 密度\n",
    "<li>pH : pH\n",
    "<li>sulphates : 硫酸塩濃度\n",
    "<li>alcohol : アルコール度数\n",
    "<li>quality (score between 0 and 10) : 0-10 の値で示される品質のスコア\n",
    "</ol>"
   ]
  },
  {
   "cell_type": "code",
   "execution_count": null,
   "metadata": {
    "collapsed": false
   },
   "outputs": [],
   "source": [
    "# ウェブ上のリソースを指定する\n",
    "url = 'https://raw.githubusercontent.com/chemo-wakate/tutorial-6th/master/beginner/data/winequality-red.txt'\n",
    "# 指定したURLからリソースをダウンロードし、名前をつける。\n",
    "# urllib.urlretrieve(url, 'winequality-red.csv') # Python 2 の場合\n",
    "urllib.request.urlretrieve(url, 'winequality-red.txt') # Python 3 の場合"
   ]
  },
  {
   "cell_type": "code",
   "execution_count": null,
   "metadata": {
    "collapsed": false
   },
   "outputs": [],
   "source": [
    "# データの読み込み\n",
    "df1 = pd.read_csv('winequality-red.txt', sep='\\t', index_col=0) "
   ]
  },
  {
   "cell_type": "code",
   "execution_count": null,
   "metadata": {
    "collapsed": false
   },
   "outputs": [],
   "source": [
    "df1.head() # 先頭５行だけ表示"
   ]
  },
  {
   "cell_type": "markdown",
   "metadata": {},
   "source": [
    "<h3 STYLE=\"background: #c2edff;padding: 0.5em;\"><a name=\"2\">2. ２群に分ける</a></h3>\n",
    "\n",
    "ここでは、ワインの品質を「６未満（よくない）」と「６以上（よい）」の２群に分けてから、機械学習を用いて、pH や volatile acidity などの変数から品質を予測してみましょう。まずは、２群に分けることから始めます。\n",
    "\n",
    "<h4 style=\"border-bottom: solid 1px black;\">簡単な例で説明</h4>\n",
    "\n",
    "データを２群に分けるにあたって、pandasの操作が少し分かりにくいので、簡単な例を用いて説明します。"
   ]
  },
  {
   "cell_type": "code",
   "execution_count": null,
   "metadata": {
    "collapsed": true
   },
   "outputs": [],
   "source": [
    "# 簡単な例\n",
    "toy_data = pd.DataFrame([[1, 4, 7, 10, 13, 16], [2, 5, 8, 11, 14, 27], [3, 6, 9, 12, 15, 17], [21, 24, 27, 20, 23, 26]],\n",
    "                   index = ['i1', 'i2', 'i3', 'i4'],\n",
    "                   columns = list(\"abcdef\"))"
   ]
  },
  {
   "cell_type": "code",
   "execution_count": null,
   "metadata": {
    "collapsed": false
   },
   "outputs": [],
   "source": [
    "toy_data # 中身の確認"
   ]
  },
  {
   "cell_type": "code",
   "execution_count": null,
   "metadata": {
    "collapsed": false
   },
   "outputs": [],
   "source": [
    "# F列の値が 20 未満の列だけを抜き出す\n",
    "toy_data[toy_data['f'] < 20]"
   ]
  },
  {
   "cell_type": "code",
   "execution_count": null,
   "metadata": {
    "collapsed": false
   },
   "outputs": [],
   "source": [
    "# F列の値が 20 以上の列だけを抜き出す\n",
    "toy_data[toy_data['f'] >= 20]"
   ]
  },
  {
   "cell_type": "code",
   "execution_count": null,
   "metadata": {
    "collapsed": false
   },
   "outputs": [],
   "source": [
    "# F列の値が 20 以上の列だけを抜き出して、そのB列を得る\n",
    "pd.DataFrame(toy_data[toy_data['f'] >= 20]['b'])"
   ]
  },
  {
   "cell_type": "code",
   "execution_count": null,
   "metadata": {
    "collapsed": true
   },
   "outputs": [],
   "source": [
    "# classという名の列を作り、F列の値が 20 未満なら 0 を、そうでなければ 1 を入れる\n",
    "toy_data['class'] = [0 if i < 20 else 1 for i in toy_data['f'].tolist()]"
   ]
  },
  {
   "cell_type": "code",
   "execution_count": null,
   "metadata": {
    "collapsed": false
   },
   "outputs": [],
   "source": [
    "toy_data # 中身を確認"
   ]
  },
  {
   "cell_type": "markdown",
   "metadata": {},
   "source": [
    "<h4 style=\"border-bottom: solid 1px black;\">実データに戻ります</h4>\n",
    "\n",
    "以下、quality が６未満のワインと６以上のワインに分け、どのように違うのか調べてみましょう。"
   ]
  },
  {
   "cell_type": "code",
   "execution_count": null,
   "metadata": {
    "collapsed": false
   },
   "outputs": [],
   "source": [
    "# quality が 6 未満の行を抜き出して、先頭５行を表示する\n",
    "df1[df1['quality'] < 6].head()"
   ]
  },
  {
   "cell_type": "code",
   "execution_count": null,
   "metadata": {
    "collapsed": false
   },
   "outputs": [],
   "source": [
    "# quality が 6 以上の行を抜き出して、先頭５行を表示する\n",
    "df1[df1['quality'] >= 6].head()"
   ]
  },
  {
   "cell_type": "code",
   "execution_count": null,
   "metadata": {
    "collapsed": false,
    "scrolled": false
   },
   "outputs": [],
   "source": [
    "fig, ax = plt.subplots(1, 1)\n",
    "\n",
    "# quality が 6 未満の行を抜き出して、x軸を volatile acidity 、 y軸を alcohol として青色の丸を散布する\n",
    "df1[df1['quality'] <  6].plot(kind='scatter', x=u'volatile acidity', y=u'alcohol', ax=ax, \n",
    "                              c='blue', alpha=0.5)\n",
    "\n",
    "# quality が 6 以上の行を抜き出して、x軸を volatile acidity 、 y軸を alcohol として赤色の丸を散布する\n",
    "df1[df1['quality'] >= 6].plot(kind='scatter', x=u'volatile acidity', y=u'alcohol', ax=ax, \n",
    "                              c='red', alpha=0.5, grid=True, figsize=(5,5))\n",
    "plt.show()"
   ]
  },
  {
   "cell_type": "code",
   "execution_count": null,
   "metadata": {
    "collapsed": false
   },
   "outputs": [],
   "source": [
    "# quality が 6 未満のものを青色、6以上のものを赤色に彩色して volatile acidity の分布を描画\n",
    "df1[df1['quality'] <  6]['volatile acidity'].hist(figsize=(3, 3), bins=20, alpha=0.5, color='blue')\n",
    "df1[df1['quality'] >= 6]['volatile acidity'].hist(figsize=(3, 3), bins=20, alpha=0.5, color='red')"
   ]
  },
  {
   "cell_type": "markdown",
   "metadata": {},
   "source": [
    "上図のように、qualityが６未満のワインと６以上のワインは volatile acidity の分布が異なるように見えます。その差が有意かどうか t検定 で確認してみましょう。"
   ]
  },
  {
   "cell_type": "code",
   "execution_count": null,
   "metadata": {
    "collapsed": false
   },
   "outputs": [],
   "source": [
    "# 対応のないt検定\n",
    "significance = 0.05\n",
    "X = df1[df1['quality'] <  6]['volatile acidity'].tolist()\n",
    "Y = df1[df1['quality'] >= 6]['volatile acidity'].tolist()\n",
    "\n",
    "t, p = stats.ttest_ind(X, Y)\n",
    "\n",
    "print( \"t 値は %(t)s\" %locals() )\n",
    "print( \"確率は %(p)s\" %locals() )\n",
    "\n",
    "if p < significance:\n",
    "    print(\"有意水準 %(significance)s で、有意な差があります\" %locals())\n",
    "else:\n",
    "    print(\"有意水準 %(significance)s で、有意な差がありません\" %locals())"
   ]
  },
  {
   "cell_type": "markdown",
   "metadata": {},
   "source": [
    "同様に、qualityが６未満のワインと６以上のワインでは pH の分布が異なるか調べてみましょう。"
   ]
  },
  {
   "cell_type": "code",
   "execution_count": null,
   "metadata": {
    "collapsed": false
   },
   "outputs": [],
   "source": [
    "# quality が 6 未満のものを青色、6以上のものを赤色に彩色して pH の分布を描画\n",
    "df1[df1['quality'] <  6]['pH'].hist(figsize=(3, 3), bins=20, alpha=0.5, color='blue')\n",
    "df1[df1['quality'] >= 6]['pH'].hist(figsize=(3, 3), bins=20, alpha=0.5, color='red')"
   ]
  },
  {
   "cell_type": "code",
   "execution_count": null,
   "metadata": {
    "collapsed": false
   },
   "outputs": [],
   "source": [
    "# 対応のないt検定\n",
    "significance = 0.05\n",
    "X = df1[df1['quality'] <= 5]['pH'].tolist()\n",
    "Y = df1[df1['quality'] >  5]['pH'].tolist()\n",
    "\n",
    "t, p = stats.ttest_ind(X, Y)\n",
    "\n",
    "print( \"t 値は %(t)s\" %locals() )\n",
    "print( \"確率は %(p)s\" %locals() )\n",
    "\n",
    "if p < significance:\n",
    "    print(\"有意水準 %(significance)s で、有意な差があります\" %locals())\n",
    "else:\n",
    "    print(\"有意水準 %(significance)s で、有意な差がありません\" %locals())"
   ]
  },
  {
   "cell_type": "markdown",
   "metadata": {},
   "source": [
    "<h4 style=\"border-bottom: solid 1px black;\">分類を表す列を追加する</h4>\n",
    "\n",
    "quality が 6 未満のワインを「0」、6以上のワインを「1」とした class 列を追加しましょう。"
   ]
  },
  {
   "cell_type": "code",
   "execution_count": null,
   "metadata": {
    "collapsed": false
   },
   "outputs": [],
   "source": [
    "df1['class'] = [0 if i <= 5 else 1 for i in df1['quality'].tolist()]"
   ]
  },
  {
   "cell_type": "code",
   "execution_count": null,
   "metadata": {
    "collapsed": false
   },
   "outputs": [],
   "source": [
    "df1.head() # 先頭５行を表示"
   ]
  },
  {
   "cell_type": "markdown",
   "metadata": {},
   "source": [
    "class 列が 0 なら青色、1 なら赤色に彩色します。"
   ]
  },
  {
   "cell_type": "code",
   "execution_count": null,
   "metadata": {
    "collapsed": true
   },
   "outputs": [],
   "source": [
    "# それぞれに与える色を決める。\n",
    "color_codes = {0:'#0000FF', 1:'#FF0000'}\n",
    "colors = [color_codes[x] for x in df1['class'].tolist()]"
   ]
  },
  {
   "cell_type": "markdown",
   "metadata": {},
   "source": [
    "その彩色で散布図行列を描きましょう。"
   ]
  },
  {
   "cell_type": "code",
   "execution_count": null,
   "metadata": {
    "collapsed": false
   },
   "outputs": [],
   "source": [
    "plotting.scatter_matrix(df1.dropna(axis=1)[df1.columns[:10]], figsize=(20, 20), color=colors, alpha=0.5) \n",
    "plt.show()"
   ]
  },
  {
   "cell_type": "markdown",
   "metadata": {},
   "source": [
    "上図から、各変数と、quality の良し悪しとの関係がボンヤリとつかめてきたのではないでしょうか。続いて主成分分析をしてみます。"
   ]
  },
  {
   "cell_type": "code",
   "execution_count": null,
   "metadata": {
    "collapsed": true
   },
   "outputs": [],
   "source": [
    "dfs = df1.apply(lambda x: (x-x.mean())/x.std(), axis=0).fillna(0) # データの正規化"
   ]
  },
  {
   "cell_type": "code",
   "execution_count": null,
   "metadata": {
    "collapsed": false
   },
   "outputs": [],
   "source": [
    "pca = PCA()\n",
    "pca.fit(dfs.iloc[:, :10])\n",
    "# データを主成分空間に写像 = 次元圧縮\n",
    "feature = pca.transform(dfs.iloc[:, :10])\n",
    "#plt.figure(figsize=(6, 6))\n",
    "plt.scatter(feature[:, 0], feature[:, 1], alpha=0.5, color=colors)\n",
    "plt.title(\"Principal Component Analysis\")\n",
    "plt.xlabel(\"The first principal component\")\n",
    "plt.ylabel(\"The second principal component\")\n",
    "plt.grid()\n",
    "plt.show()"
   ]
  },
  {
   "cell_type": "markdown",
   "metadata": {},
   "source": [
    "分かったような分からないような結果ですね。quality の良し悪しを分類・予測するのは簡単ではなさそうです。"
   ]
  },
  {
   "cell_type": "markdown",
   "metadata": {},
   "source": [
    "<h3 STYLE=\"background: #c2edff;padding: 0.5em;\"><a name=\"3\">3. 説明変数と目的変数に分ける</a></h3>\n",
    "\n",
    "ここまでで、ワインの品質を２群に分けました。次は、目的変数（ここでは、品質）と説明変数（それ以外の変数）に分けましょう。"
   ]
  },
  {
   "cell_type": "code",
   "execution_count": null,
   "metadata": {
    "collapsed": false
   },
   "outputs": [],
   "source": [
    "X = dfs.iloc[:, :10] # 説明変数\n",
    "y = df1.iloc[:, 12] # 目的変数"
   ]
  },
  {
   "cell_type": "code",
   "execution_count": null,
   "metadata": {
    "collapsed": false,
    "scrolled": false
   },
   "outputs": [],
   "source": [
    "X.head() # 先頭５行を表示して確認"
   ]
  },
  {
   "cell_type": "code",
   "execution_count": null,
   "metadata": {
    "collapsed": false
   },
   "outputs": [],
   "source": [
    "pd.DataFrame(y).T # 目的変数を確認。縦に長いと見にくいので転置して表示。"
   ]
  },
  {
   "cell_type": "markdown",
   "metadata": {},
   "source": [
    "<h3 STYLE=\"background: #c2edff;padding: 0.5em;\"><a name=\"4\">4. 訓練データとテストデータに分ける</a></h3>\n",
    "\n",
    "機械学習ではその性能評価をするために、既知データを訓練データ（教師データ、教師セットともいいます）とテストデータ（テストセットともいいます）に分割します。訓練データを用いて訓練（学習）して予測モデルを構築し、その予測モデル構築に用いなかったテストデータをどのくらい正しく予測できるかということで性能評価を行ないます。そのような評価方法を「交差検定」(cross-validation)と呼びます。ここでは、\n",
    "\n",
    "* 訓練データ（全データの６０％）\n",
    "    * __X_train__ : 訓練データの説明変数\n",
    "    * __y_train__ : 訓練データの目的変数\n",
    "* テストデータ（全データの４０％）\n",
    "    * __X_test__ : テストデータの説明変数\n",
    "    * __y_test__ : テストデータの目的変数\n",
    "    \n",
    "とし、__X_train__ と __y_train__ の関係を学習して __X_test__ から __y_test__ を予測することを目指します。"
   ]
  },
  {
   "cell_type": "code",
   "execution_count": null,
   "metadata": {
    "collapsed": false
   },
   "outputs": [],
   "source": [
    "X_train, X_test, y_train, y_test = train_test_split(X, y, test_size=.4) # 訓練データ・テストデータへのランダムな分割"
   ]
  },
  {
   "cell_type": "code",
   "execution_count": null,
   "metadata": {
    "collapsed": false,
    "scrolled": true
   },
   "outputs": [],
   "source": [
    "X_train.head() # 先頭５行を表示して確認"
   ]
  },
  {
   "cell_type": "code",
   "execution_count": null,
   "metadata": {
    "collapsed": false,
    "scrolled": true
   },
   "outputs": [],
   "source": [
    "pd.DataFrame(y_train).T # 縦に長いと見にくいので転置して表示。"
   ]
  },
  {
   "cell_type": "markdown",
   "metadata": {},
   "source": [
    "<h3 STYLE=\"background: #c2edff;padding: 0.5em;\"><a name=\"5\">5. ロジスティック回帰</a></h3>\n",
    "\n",
    "機械学習モデルとして有名なものの一つとして、ロジスティック回帰があります。線形回帰分析が量的変数を予測するのに対して、ロジスティック回帰分析は発生確率を予測する手法です。基本的な考え方は線形回帰分析と同じなのですが、予測結果が 0 から 1 の間を取るように、数式やその前提に改良が加えられています。"
   ]
  },
  {
   "cell_type": "code",
   "execution_count": null,
   "metadata": {
    "collapsed": false
   },
   "outputs": [],
   "source": [
    "clf = LogisticRegression() #モデルの生成\n",
    "clf.fit(X_train, y_train) #学習"
   ]
  },
  {
   "cell_type": "code",
   "execution_count": null,
   "metadata": {
    "collapsed": false
   },
   "outputs": [],
   "source": [
    "# 正解率 (train) : 学習に用いたデータをどのくらい正しく予測できるか\n",
    "clf.score(X_train, y_train)"
   ]
  },
  {
   "cell_type": "code",
   "execution_count": null,
   "metadata": {
    "collapsed": false
   },
   "outputs": [],
   "source": [
    "# 正解率 (test) : 学習に用いなかったデータをどのくらい正しく予測できるか\n",
    "clf.score(X_test, y_test)"
   ]
  },
  {
   "cell_type": "markdown",
   "metadata": {},
   "source": [
    "正解率の数字を出すだけなら以上でおしまいですが、具体的な予測結果を確認したい場合は次のようにします。"
   ]
  },
  {
   "cell_type": "code",
   "execution_count": null,
   "metadata": {
    "collapsed": false
   },
   "outputs": [],
   "source": [
    "y_predict = clf.predict(X_test)"
   ]
  },
  {
   "cell_type": "code",
   "execution_count": null,
   "metadata": {
    "collapsed": false
   },
   "outputs": [],
   "source": [
    "pd.DataFrame(y_predict).T"
   ]
  },
  {
   "cell_type": "code",
   "execution_count": null,
   "metadata": {
    "collapsed": false
   },
   "outputs": [],
   "source": [
    "# 予測結果と、正解（本当の答え）がどのくらい合っていたかを表す混合行列\n",
    "pd.DataFrame(confusion_matrix(y_predict, y_test), index=['predicted 0', 'predicted 1'], columns=['real 0', 'real 1'])"
   ]
  },
  {
   "cell_type": "markdown",
   "metadata": {},
   "source": [
    "<h3 STYLE=\"background: #c2edff;padding: 0.5em;\"><a name=\"6\">6. いろんな機械学習手法を比較する</a></h3>\n",
    "\n",
    "scikit-learn が用意している機械学習手法（分類器）はロジスティック回帰だけではありません。有名なものは SVM （サポートベクターマシン）などがあります。いろいろ試して、ベストなものを選択してみましょう。\n",
    "\n",
    "まず、いろんな分類器を classifiers という名のリストの中に収納します。"
   ]
  },
  {
   "cell_type": "code",
   "execution_count": null,
   "metadata": {
    "collapsed": false
   },
   "outputs": [],
   "source": [
    "names = [\"Logistic Regression\", \"Nearest Neighbors\", \n",
    "         \"Linear SVM\", \"Polynomial SVM\", \"RBF SVM\", \"Sigmoid SVM\", \n",
    "         \"Decision Tree\",\"Random Forest\", \"AdaBoost\", \"Naive Bayes\", \n",
    "         \"Linear Discriminant Analysis\",\"Quadratic Discriminant Analysis\"]\n",
    "\n",
    "classifiers = [\n",
    "    LogisticRegression(),\n",
    "    KNeighborsClassifier(),\n",
    "    SVC(kernel=\"linear\"),\n",
    "    SVC(kernel=\"poly\"),\n",
    "    SVC(kernel=\"rbf\"),\n",
    "    SVC(kernel=\"sigmoid\"),\n",
    "    DecisionTreeClassifier(),\n",
    "    RandomForestClassifier(),\n",
    "    AdaBoostClassifier(),\n",
    "    GaussianNB(),\n",
    "    LDA(),\n",
    "    QDA()]"
   ]
  },
  {
   "cell_type": "markdown",
   "metadata": {},
   "source": [
    "さきほど作成した教師データを使って、これらの分類器で順番に予測して、正解率（train）と正解率（test）を計算してみましょう。"
   ]
  },
  {
   "cell_type": "code",
   "execution_count": null,
   "metadata": {
    "collapsed": false
   },
   "outputs": [],
   "source": [
    "result = []\n",
    "for name, clf in zip(names, classifiers): # 指定した複数の分類機を順番に呼び出す\n",
    "    clf.fit(X_train, y_train) # 学習\n",
    "    score1 = clf.score(X_train, y_train) # 正解率（train）の算出\n",
    "    score2 = clf.score(X_test, y_test) # 正解率（test）の算出\n",
    "    result.append([score1, score2]) # 結果の格納\n",
    "\n",
    "# test の正解率の大きい順に並べる\n",
    "df_result = pd.DataFrame(result, columns=['train', 'test'], index=names).sort('test', ascending=False)"
   ]
  },
  {
   "cell_type": "code",
   "execution_count": null,
   "metadata": {
    "collapsed": false
   },
   "outputs": [],
   "source": [
    "df_result # 結果の確認"
   ]
  },
  {
   "cell_type": "code",
   "execution_count": null,
   "metadata": {
    "collapsed": false
   },
   "outputs": [],
   "source": [
    "# 棒グラフの描画\n",
    "df_result.plot(kind='bar', alpha=0.5, grid=True)"
   ]
  },
  {
   "cell_type": "markdown",
   "metadata": {},
   "source": [
    "訓練データの作成はランダムに行なうので、作成のたびに正解率の数字は変わります。場合によっては、分類器の順序が前後することもあります。それでは適切な性能評価がしにくいので、教師データを何度も作り直して正解率を計算してみましょう。"
   ]
  },
  {
   "cell_type": "code",
   "execution_count": null,
   "metadata": {
    "collapsed": false
   },
   "outputs": [],
   "source": [
    "result = []\n",
    "for trial in range(20): # 20 回繰り返す\n",
    "    X_train, X_test, y_train, y_test = train_test_split(X, y, test_size=.4) # 訓練データ・テストデータの生成\n",
    "    for name, clf in zip(names, classifiers): # 指定した複数の分類機を順番に呼び出す\n",
    "        clf.fit(X_train, y_train) # 学習\n",
    "        score1 = clf.score(X_train, y_train) # 正解率（train）の算出\n",
    "        score2 = clf.score(X_test, y_test) # 正解率（test）の算出\n",
    "        result.append([name, score1, score2]) # 結果の格納\n",
    "\n",
    "df_result = pd.DataFrame(result, columns=['classifier', 'train', 'test']) # 今回はまだ並べ替えはしない"
   ]
  },
  {
   "cell_type": "code",
   "execution_count": null,
   "metadata": {
    "collapsed": false,
    "scrolled": false
   },
   "outputs": [],
   "source": [
    "df_result # 結果の確認。同じ分類器の結果が複数回登場していることに注意。"
   ]
  },
  {
   "cell_type": "code",
   "execution_count": null,
   "metadata": {
    "collapsed": true
   },
   "outputs": [],
   "source": [
    "# 分類器 (classifier) 毎にグループ化して正解率の平均を計算し、test の正解率の平均の大きい順に並べる\n",
    "df_result_mean = df_result.groupby('classifier').mean().sort('test', ascending=False)"
   ]
  },
  {
   "cell_type": "code",
   "execution_count": null,
   "metadata": {
    "collapsed": false
   },
   "outputs": [],
   "source": [
    "df_result_mean # 結果の確認"
   ]
  },
  {
   "cell_type": "code",
   "execution_count": null,
   "metadata": {
    "collapsed": false
   },
   "outputs": [],
   "source": [
    "# エラーバーの表示に用いる目的で、標準偏差を計算する\n",
    "errors = df_result.groupby('classifier').std()"
   ]
  },
  {
   "cell_type": "code",
   "execution_count": null,
   "metadata": {
    "collapsed": false
   },
   "outputs": [],
   "source": [
    "errors # 結果の確認"
   ]
  },
  {
   "cell_type": "code",
   "execution_count": null,
   "metadata": {
    "collapsed": false
   },
   "outputs": [],
   "source": [
    "# 平均値と標準偏差を用いて棒グラフを描画\n",
    "df_result_mean.plot(kind='bar', alpha=0.5, grid=True, yerr=errors)"
   ]
  },
  {
   "cell_type": "markdown",
   "metadata": {},
   "source": [
    "以上、様々な分類器を用いて、ワインの品質の善し悪しを予測しました。それぞれの分類器にはそれぞれのパラメーターがありますが、上の例では全てデフォルト値を使っています。上手にパラメーターをチューニングすれば、もっと良い予測性能が出せるかもしれません。ですが今回はここまでとさせていただきます。興味があったらぜひ調べてみてください。"
   ]
  },
  {
   "cell_type": "markdown",
   "metadata": {
    "collapsed": true
   },
   "source": [
    "<h4 style=\"padding: 0.25em 0.5em;color: #494949;background: transparent;border-left: solid 5px #7db4e6;\"><a name=\"4\">練習5.1</a></h4>\n",
    "\n",
    "白ワインのデータ(https://raw.githubusercontent.com/chemo-wakate/tutorial-6th/master/beginner/data/winequality-white.txt) についても同様に機械学習による二値分類を行なってください。"
   ]
  },
  {
   "cell_type": "code",
   "execution_count": null,
   "metadata": {
    "collapsed": true
   },
   "outputs": [],
   "source": [
    "# 練習5.1"
   ]
  }
 ],
 "metadata": {
  "kernelspec": {
   "display_name": "Python 3",
   "language": "python",
   "name": "python3"
  },
  "language_info": {
   "codemirror_mode": {
    "name": "ipython",
    "version": 3
   },
   "file_extension": ".py",
   "mimetype": "text/x-python",
   "name": "python",
   "nbconvert_exporter": "python",
   "pygments_lexer": "ipython3",
   "version": "3.4.5"
  }
 },
 "nbformat": 4,
 "nbformat_minor": 2
}
