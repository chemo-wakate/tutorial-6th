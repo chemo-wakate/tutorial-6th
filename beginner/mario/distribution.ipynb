{
 "cells": [
  {
   "cell_type": "markdown",
   "metadata": {},
   "source": [
    "<h1 STYLE=\"background: #c2edff;padding: 0.5em;\">Step 1. 分布</h1>\n",
    "\n",
    "<ol>\n",
    "<li><a href=\"#1\">乱数と一様分布</a>\n",
    "<li><a href=\"#2\">二項分布</a>\n",
    "<li><a href=\"#3\">正規分布</a>\n",
    "</ol>\n",
    "<h4 style=\"border-bottom: solid 1px black;\">Step 1 の目標</h4>\n",
    "\n",
    "正規分布に従う乱数のヒストグラムを描く。\n",
    "<img src=\"fig/seikibunpu.png\">"
   ]
  },
  {
   "cell_type": "markdown",
   "metadata": {},
   "source": [
    "<h2 STYLE=\"background: #c2edff;padding: 0.5em;\"><a name=\"1\">1.1 乱数と一様分布</a></h2>\n",
    "\n",
    "<h4 style=\"border-bottom: solid 1px black;\">一様乱数の分布の図示</h4>\n",
    "\n",
    "まずは、一様乱数を発生させて、その分布を図示してみましょう。"
   ]
  },
  {
   "cell_type": "code",
   "execution_count": null,
   "metadata": {
    "collapsed": false
   },
   "outputs": [],
   "source": [
    "# 乱数を扱うためのライブラリをインポートする。\n",
    "import random"
   ]
  },
  {
   "cell_type": "code",
   "execution_count": null,
   "metadata": {
    "collapsed": true
   },
   "outputs": [],
   "source": [
    "sample_size = 10 # 乱数発生回数\n",
    "\n",
    "# 一様乱数を dist に格納する （distribution : 分布）\n",
    "dist = [random.random() for i in range(sample_size)]"
   ]
  },
  {
   "cell_type": "code",
   "execution_count": null,
   "metadata": {
    "collapsed": false
   },
   "outputs": [],
   "source": [
    "# dist の中身を確認する。\n",
    "dist"
   ]
  },
  {
   "cell_type": "code",
   "execution_count": null,
   "metadata": {
    "collapsed": false
   },
   "outputs": [],
   "source": [
    "# 図やグラフを図示するためのライブラリをインポートする。\n",
    "import matplotlib.pyplot as plt\n",
    "%matplotlib inline"
   ]
  },
  {
   "cell_type": "code",
   "execution_count": null,
   "metadata": {
    "collapsed": false
   },
   "outputs": [],
   "source": [
    "# ヒストグラムを描く。\n",
    "plt.hist(dist)\n",
    "plt.grid()\n",
    "plt.show()"
   ]
  },
  {
   "cell_type": "markdown",
   "metadata": {},
   "source": [
    "<h4 style=\"border-bottom: solid 1px black;\">乱数発生回数を増やしてみる</h4>\n",
    "\n",
    "乱数発生回数を多くするにしたがって、\"理想的な\" 分布の形に近づいていきます。"
   ]
  },
  {
   "cell_type": "code",
   "execution_count": null,
   "metadata": {
    "collapsed": false
   },
   "outputs": [],
   "source": [
    "sample_size = 100 # 乱数発生回数\n",
    "\n",
    "# 一様乱数を dist に格納する\n",
    "dist = [random.random() for i in range(sample_size)]\n",
    "\n",
    "# ヒストグラムを描く。\n",
    "plt.hist(dist)\n",
    "plt.grid()\n",
    "plt.show()"
   ]
  },
  {
   "cell_type": "code",
   "execution_count": null,
   "metadata": {
    "collapsed": false
   },
   "outputs": [],
   "source": [
    "sample_size = 1000 # 乱数発生回数\n",
    "\n",
    "# 一様乱数を dist に格納する\n",
    "dist = [random.random() for i in range(sample_size)]\n",
    "\n",
    "# ヒストグラムを描く。\n",
    "plt.hist(dist)\n",
    "plt.grid()\n",
    "plt.show()"
   ]
  },
  {
   "cell_type": "code",
   "execution_count": null,
   "metadata": {
    "collapsed": false
   },
   "outputs": [],
   "source": [
    "sample_size = 10000 # 乱数発生回数\n",
    "\n",
    "# 一様乱数を dist に格納する\n",
    "dist = [random.random() for i in range(sample_size)]\n",
    "\n",
    "# ヒストグラムを描く。\n",
    "plt.hist(dist)\n",
    "plt.grid()\n",
    "plt.show()"
   ]
  },
  {
   "cell_type": "code",
   "execution_count": null,
   "metadata": {
    "collapsed": false
   },
   "outputs": [],
   "source": [
    "sample_size = 100000 # 乱数発生回数\n",
    "\n",
    "# 一様乱数を dist に格納する\n",
    "dist = [random.random() for i in range(sample_size)]\n",
    "\n",
    "# ヒストグラムを描く。\n",
    "plt.hist(dist)\n",
    "plt.grid()\n",
    "plt.show()"
   ]
  },
  {
   "cell_type": "markdown",
   "metadata": {},
   "source": [
    "<h4 style=\"border-bottom: solid 1px black;\">binを増やしてみる</h4>\n",
    "\n",
    "ゴミを分別するのに使う箱のことを bin と言います。ヒストグラムを描く時は、いくつの bin に分別するかで表示が違ってきます。binの数を多くすると、分布の細かい形が見えますが、ひとつのbinあたり分別されたデータ数は当然少なくなります。"
   ]
  },
  {
   "cell_type": "code",
   "execution_count": null,
   "metadata": {
    "collapsed": false
   },
   "outputs": [],
   "source": [
    "sample_size = 100000 # 乱数発生回数\n",
    "\n",
    "# 一様乱数を dist に格納する\n",
    "dist = [random.random() for i in range(sample_size)]\n",
    "\n",
    "# ヒストグラムを描く。\n",
    "plt.hist(dist, bins=100) # binを多くする\n",
    "plt.grid()\n",
    "plt.show()"
   ]
  },
  {
   "cell_type": "markdown",
   "metadata": {},
   "source": [
    "<h2 STYLE=\"background: #c2edff;padding: 0.5em;\"><a name=\"2\">1.2 二項分布</a></h2>\n",
    "\n",
    " __np.random.binomial(n, p)__ は、確率pで奇数が出る（確率1-pで偶数が出る）ルーレットをn回プレイしたときに、奇数が出る個数を返します。このような分布を、二項分布と言います。\n",
    " \n",
    "<h4 style=\"border-bottom: solid 1px black;\">等確率の二項分布</h4>\n",
    "\n",
    "奇数と偶数が等確率で出るルーレットを１０回プレイし、奇数が出る回数を数えます。それを１００００回繰り返します。奇数と偶数が同じ回数だけ出る確率（５回ずつ出る確率）はどのくらいでしょうか。"
   ]
  },
  {
   "cell_type": "code",
   "execution_count": null,
   "metadata": {
    "collapsed": true
   },
   "outputs": [],
   "source": [
    "# 数値計算のライブラリをインポートする。\n",
    "import numpy as np"
   ]
  },
  {
   "cell_type": "code",
   "execution_count": null,
   "metadata": {
    "collapsed": false
   },
   "outputs": [],
   "source": [
    "sample_size = 10000 # 乱数発生回数\n",
    "\n",
    "# 確率pで奇数が出る（確率1-pで偶数が出る）ルーレットをn回プレイしたときに、\n",
    "# 奇数が出る回数の分布\n",
    "dist = [np.random.binomial(n=10, p=0.5) for i in range(sample_size)]\n",
    "\n",
    "# ヒストグラムを描く。\n",
    "plt.hist(dist, bins=100)\n",
    "plt.grid()\n",
    "plt.show()"
   ]
  },
  {
   "cell_type": "markdown",
   "metadata": {},
   "source": [
    "上図から分かるように、奇数と偶数が等確率で出るルーレットを１０回プレイして、奇数と偶数が同じ回数だけ出る確率（５回ずつ出る確率）は、約２５％（１００００回中の約２５００回）ほどです。案外少ない、という印象を持つかもしれませんね。\n",
    "\n",
    "<h4 style=\"border-bottom: solid 1px black;\">そのルーレットはイカサマか</h4>\n",
    "\n",
    "あなたはカジノで他の客がルーレットをプレイしているのを観察していました。すると、奇数の出る回数がやけに多いので、そのルーレットはイカサマではないかという気がしてきました。イカサマでなければ、ルーレットは奇数と偶数が等確率で出るはずです。ところがこのルーレットは、１００回中６０回、奇数が出ました。このルーレットはイカサマでしょうか。\n",
    "\n",
    "奇数と偶数が等確率で出るルーレットを１００回プレイした時、奇数が出る回数が６０回以上になる確率はどれくらいでしょうか。まずは分布を描いてみましょう。"
   ]
  },
  {
   "cell_type": "code",
   "execution_count": null,
   "metadata": {
    "collapsed": false
   },
   "outputs": [],
   "source": [
    "sample_size = 10000 # 乱数発生回数\n",
    "\n",
    "# 確率pで奇数が出る（確率1-pで偶数が出る）ルーレットをn回プレイしたときに、\n",
    "# 奇数が出る回数の分布\n",
    "dist = [np.random.binomial(n=100, p=0.5) for i in range(sample_size)]\n",
    "\n",
    "# ヒストグラムを描く。\n",
    "plt.hist(dist, bins=100)\n",
    "plt.grid()\n",
    "plt.show()"
   ]
  },
  {
   "cell_type": "markdown",
   "metadata": {},
   "source": [
    "上と同様の計算で、今度は「ルーレットを１００回プレイして奇数が６０回以上出る確率」を計算してみます。"
   ]
  },
  {
   "cell_type": "code",
   "execution_count": null,
   "metadata": {
    "collapsed": false
   },
   "outputs": [],
   "source": [
    "sample_size = 10000 # 乱数発生回数\n",
    "\n",
    "# 確率pで奇数が出る（確率1-pで偶数が出る）ルーレットをn回プレイしたときに、\n",
    "# 奇数が出る回数の分布\n",
    "dist = [np.random.binomial(n=100, p=0.5) for i in range(sample_size)]\n",
    "\n",
    "p = sum([1 for n in dist if n >= 60]) / sample_size\n",
    "print(\"p値: %(p)s \" %locals())"
   ]
  },
  {
   "cell_type": "markdown",
   "metadata": {},
   "source": [
    "奇数と偶数が等確率で出るルーレットを１００回プレイして、奇数が出る回数が「偶然」６０回以上になる確率は 5% 以下になることが分かりました。つまり、１００回中６０回以上奇数が出るようなルーレットは、そのルーレットがイカサマだと疑ってみるのが良さそうです。\n",
    "\n",
    "このときのpを、p値(有意確率)と呼びます。\n",
    "\n",
    "* 帰無仮説：そのルーレットはイカサマではない（奇数と偶数が等確率で出る）。\n",
    "* 対立仮説：そのルーレットはイカサマである。\n",
    "* p < 0.05 なので、有意水準5%で、帰無仮説を棄却できる。\n",
    "* すなわち、そのルーレットはイカサマである可能性が高い。\n",
    "\n",
    "<h4 style=\"padding: 0.25em 0.5em;color: #494949;background: transparent;border-left: solid 5px #7db4e6;\">練習1.1</h4>\n",
    "\n",
    "１００回中６０回以上奇数が出るようなルーレットは、そのルーレットがイカサマだと疑ってみるのが良さそうです。では、１０回中６回以上奇数が出た場合、<u>奇数が出た確率は同じ６０％</u>ですが、そのルーレットはイカサマと言えるでしょうか。p値を計算して答えてください。"
   ]
  },
  {
   "cell_type": "code",
   "execution_count": null,
   "metadata": {
    "collapsed": false
   },
   "outputs": [],
   "source": [
    "# 練習1.1"
   ]
  },
  {
   "cell_type": "markdown",
   "metadata": {},
   "source": [
    "<h4 style=\"border-bottom: solid 1px black;\">等確率でない二項分布</h4>\n",
    "\n",
    "全住民の5%がある感染症に罹患したと推定されている。その全住民の中から無作為に20人を抽出した場合、抽出された集団の中に罹患者は何人いるでしょうか。そのような分布も二項分布になります。分布を描いてみましょう。"
   ]
  },
  {
   "cell_type": "code",
   "execution_count": null,
   "metadata": {
    "collapsed": false
   },
   "outputs": [],
   "source": [
    "sample_size = 10000 # 乱数発生回数\n",
    "\n",
    "# 確率pで奇数が出る（確率1-pで偶数が出る）ルーレットをn回プレイしたときに、\n",
    "# 奇数が出る回数の分布\n",
    "dist = [np.random.binomial(n=20, p=0.05) for i in range(sample_size)]\n",
    "\n",
    "# ヒストグラムを描く。\n",
    "plt.hist(dist, bins=100)\n",
    "plt.grid()\n",
    "plt.show()"
   ]
  },
  {
   "cell_type": "markdown",
   "metadata": {},
   "source": [
    "<h4 style=\"padding: 0.25em 0.5em;color: #494949;background: transparent;border-left: solid 5px #7db4e6;\">練習1.2</h4>\n",
    "\n",
    "全住民の5%がある感染症に罹患したと推定されている。その全住民の中から無作為に100人を抽出したところ、抽出された集団の中に罹患者が10人以上いた。\n",
    "\n",
    "(1)　それが偶然起こる確率を概算しなさい。\n",
    "\n",
    "(2)　その結果をどう解釈すれば良いか。"
   ]
  },
  {
   "cell_type": "code",
   "execution_count": null,
   "metadata": {
    "collapsed": true
   },
   "outputs": [],
   "source": [
    "# 練習1.2"
   ]
  },
  {
   "cell_type": "markdown",
   "metadata": {},
   "source": [
    "<h2 STYLE=\"background: #c2edff;padding: 0.5em;\"><a name=\"3\">1.3 正規分布</a></h2>\n",
    "\n",
    "__random.normalvariate(mu, sigma)__ は正規分布に従う乱数を発生させる関数です（mu は平均で、sigma は標準偏差）。\n",
    "\n",
    "<h4 style=\"border-bottom: solid 1px black;\">標準正規分布</h4>\n",
    "\n",
    "平均０、標準偏差1の正規分布を「標準正規分布」と言います。標準正規分布を描いてみましょう。"
   ]
  },
  {
   "cell_type": "code",
   "execution_count": null,
   "metadata": {
    "collapsed": false,
    "scrolled": false
   },
   "outputs": [],
   "source": [
    "sample_size = 10000 # 乱数発生回数\n",
    "\n",
    "dist = [random.normalvariate(mu=0, sigma=1) for i in range(sample_size)]\n",
    "\n",
    "# ヒストグラムを描く。\n",
    "plt.hist(dist, bins=100)\n",
    "plt.grid()\n",
    "plt.show()"
   ]
  },
  {
   "cell_type": "markdown",
   "metadata": {},
   "source": [
    "標準正規分布に従う乱数が２以上の値を出力する確率はどのくらいでしょうか。計算してみましょう。"
   ]
  },
  {
   "cell_type": "code",
   "execution_count": null,
   "metadata": {
    "collapsed": false
   },
   "outputs": [],
   "source": [
    "sample_size = 10000 # 乱数発生回数\n",
    "\n",
    "dist = [random.normalvariate(mu=0, sigma=1) for i in range(sample_size)]\n",
    "\n",
    "p = sum([1 for n in dist if n >= 2]) / sample_size\n",
    "print(\"p値: %(p)s \" %locals())"
   ]
  },
  {
   "cell_type": "markdown",
   "metadata": {},
   "source": [
    "<h4 style=\"border-bottom: solid 1px black;\">偏差値</h4>\n",
    "\n",
    "大学受験模試などでよく使われる「偏差値」は、平均５０、標準偏差１０の正規分布に従うという仮定をおいています。分布を描いてみましょう。ここで、縦軸は「学生数」をイメージしてください。"
   ]
  },
  {
   "cell_type": "code",
   "execution_count": null,
   "metadata": {
    "collapsed": false
   },
   "outputs": [],
   "source": [
    "sample_size = 10000 # 乱数発生回数\n",
    "\n",
    "# 確率pで奇数が出る（確率1-pで偶数が出る）ルーレットをn回プレイしたときに、\n",
    "# 奇数が出る回数の分布\n",
    "dist = [random.normalvariate(mu=50, sigma=10) for i in range(sample_size)]\n",
    "\n",
    "# ヒストグラムを描く。\n",
    "plt.hist(dist, bins=100)\n",
    "plt.grid()\n",
    "plt.show()"
   ]
  },
  {
   "cell_type": "markdown",
   "metadata": {},
   "source": [
    "<h4 style=\"padding: 0.25em 0.5em;color: #494949;background: transparent;border-left: solid 5px #7db4e6;\">練習1.3</h4>\n",
    "\n",
    "偏差値７０以上の学生は、１万人中、何人いると推定されるでしょうか。"
   ]
  },
  {
   "cell_type": "code",
   "execution_count": null,
   "metadata": {
    "collapsed": true
   },
   "outputs": [],
   "source": [
    "# 練習1.3"
   ]
  }
 ],
 "metadata": {
  "kernelspec": {
   "display_name": "Python 3",
   "language": "python",
   "name": "python3"
  },
  "language_info": {
   "codemirror_mode": {
    "name": "ipython",
    "version": 3
   },
   "file_extension": ".py",
   "mimetype": "text/x-python",
   "name": "python",
   "nbconvert_exporter": "python",
   "pygments_lexer": "ipython3",
   "version": "3.4.5"
  }
 },
 "nbformat": 4,
 "nbformat_minor": 0
}
