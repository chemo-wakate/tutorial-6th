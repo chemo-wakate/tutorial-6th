{
 "cells": [
  {
   "cell_type": "markdown",
   "metadata": {
    "slideshow": {
     "slide_type": "slide"
    }
   },
   "source": [
    "# ケモインフォマティクス入門講座初級編\n",
    "## Python基礎　2017年9月30日\n",
    "講師：久保 竜一（株式会社DeNAライフサイエンス）"
   ]
  },
  {
   "cell_type": "markdown",
   "metadata": {
    "slideshow": {
     "slide_type": "slide"
    }
   },
   "source": [
    "## WHO ARE YOU??\n",
    "<img width=\"309\" alt=\"2017-09-06 16 05 42\" src=\"https://user-images.githubusercontent.com/7918702/30098549-5013838e-931d-11e7-8b9c-01dd1a30ccfd.png\">"
   ]
  },
  {
   "cell_type": "markdown",
   "metadata": {
    "slideshow": {
     "slide_type": "subslide"
    }
   },
   "source": [
    "## 一般的には\n",
    "- [@kubor_](https://twitter.com/kubor_) \n",
    "- **ソーシャル創薬美少女**\n",
    "- いろんなイベントやってます\n",
    "    - [Genome Biz Meetup 2017](https://techplay.jp/event/619352)\n",
    "    - [シェル芸勉強会 meets バイオインフォマティクス vol.1](https://bio-shell.connpass.com/event/66089/)"
   ]
  },
  {
   "cell_type": "markdown",
   "metadata": {
    "slideshow": {
     "slide_type": "subslide"
    }
   },
   "source": [
    "## 会社では\n",
    "- [株式会社DeNAライフサイエンス](http://dena-ls.co.jp/)\n",
    "- [MYCODE](https://mycode.jp/)\n",
    "- ゲノムデータ解析をする人\n",
    "    - バイオインフォマティクスエンジニアとしてSNPアレイデータ、NGSデータを始めとするゲノムデータの解析"
   ]
  },
  {
   "cell_type": "markdown",
   "metadata": {
    "slideshow": {
     "slide_type": "subslide"
    }
   },
   "source": [
    "## ケモインフォマティクスの世界では\n",
    "- RDKit日本ユーザー会を主催\n",
    "    - [rdkit-users.jp](rdkit-users.jp)\n",
    "- 創薬ちゃんの化合物描画機能の実装\n",
    "    - [創薬ちゃん on Twitter](https://twitter.com/souyakuchan)\n",
    "    - **創薬ちゃんの中の人ではないし、中の人などいません**"
   ]
  },
  {
   "cell_type": "markdown",
   "metadata": {
    "slideshow": {
     "slide_type": "subslide"
    }
   },
   "source": [
    "## Pythonのすごい人なの？\n",
    "- そんなことないです！\n",
    "- Python歴は3年弱\n",
    "- それまではPerlとRを1年\n",
    "- そのまた前は植物育種をしていました"
   ]
  },
  {
   "cell_type": "markdown",
   "metadata": {
    "slideshow": {
     "slide_type": "slide"
    }
   },
   "source": [
    "## 今日やること\n",
    "- Pythonの紹介\n",
    "- Jupyterノートブックの使い方\n",
    "- Pythonの基本文法の確認\n",
    "- Numpy, Pandasの使い方"
   ]
  },
  {
   "cell_type": "markdown",
   "metadata": {
    "collapsed": true,
    "slideshow": {
     "slide_type": "slide"
    }
   },
   "source": [
    "## Pythonというプログラミング言語について\n",
    "- 1991年、グイド・ヴァンロッサムによって作られた、動的型付け言語\n",
    "- 書きやすさと読みやすさから主に海外で人気が高く、Googleでは社内のメイン開発言語として採用されていることが有名\n",
    "- 最近ではディープラーニングに用いられることが多い\n",
    "\n",
    "> ヴァンロッサムのウェブサイト https://gvanrossum.github.io/"
   ]
  },
  {
   "cell_type": "markdown",
   "metadata": {
    "slideshow": {
     "slide_type": "subslide"
    }
   },
   "source": [
    "## Pythonの採用例"
   ]
  },
  {
   "cell_type": "markdown",
   "metadata": {
    "slideshow": {
     "slide_type": "fragment"
    }
   },
   "source": [
    "- Pythonが使われているいろいろなもの\n",
    "    - Dropbox（クラウドストレージサービス）\n",
    "    - Tensorflow（深層学習フレームワーク）\n",
    "    - Instagram（写真投稿SNS）"
   ]
  },
  {
   "cell_type": "markdown",
   "metadata": {
    "collapsed": true,
    "slideshow": {
     "slide_type": "subslide"
    }
   },
   "source": [
    "## Pythonの元ネタ"
   ]
  },
  {
   "cell_type": "markdown",
   "metadata": {
    "slideshow": {
     "slide_type": "fragment"
    }
   },
   "source": [
    "- Pythonの元ネタはイギリスのコメディグループ「モンティ・パイソン」。\n",
    "- 「死んだオウム」\n",
    "- ![1e41d5be-f46b-11e6-858b-4673c412cefb](https://user-images.githubusercontent.com/7918702/30099670-5e25c03c-9321-11e7-8eae-632303a88eab.png)"
   ]
  },
  {
   "cell_type": "markdown",
   "metadata": {
    "collapsed": true,
    "slideshow": {
     "slide_type": "subslide"
    }
   },
   "source": [
    "## 本講座ではPython３を使います！"
   ]
  },
  {
   "cell_type": "markdown",
   "metadata": {
    "slideshow": {
     "slide_type": "fragment"
    }
   },
   "source": [
    "- Pythonのメジャーバージョンはいま2と3が混在している\n",
    "- 最新の3を使えば問題はないが、一部、2系でしか使えないモジュールがあるため、目的に応じて2系を使う必要のある場面もある\n",
    "- 例えば、バイオ系だがChIP-seq用の解析ソフトであるMACSは2系にしか対応していない\n",
    "    - [taoliu/MACS: MACS -- Model-based Analysis of ChIP-Seq](https://github.com/taoliu/MACS)"
   ]
  },
  {
   "cell_type": "markdown",
   "metadata": {
    "slideshow": {
     "slide_type": "slide"
    }
   },
   "source": [
    "## Python基礎ハンズオン\n",
    "ここからPythonの基礎文法などをハンズオンで駆け抜けていきます"
   ]
  },
  {
   "cell_type": "markdown",
   "metadata": {
    "slideshow": {
     "slide_type": "subslide"
    }
   },
   "source": [
    "### 💡受講のポイント💡\n",
    "- Jupyter notebook の 使い方をはじめに解説しますので良く確認しておいてください\n",
    "- わからないことは積極的にTA・講師に聞いてください\n",
    "- [#chemo_wakate](https://twitter.com/hashtag/chemo_wakate) タグを付けてのSNS発信を推奨します！！（特にTwitter）\n",
    "- Google検索の積極的活用を推奨します！！コピペOK！！楽しましょう！！\n",
    "- TA・講師の言っていることが必ずしも正しいとは限りません\n",
    "- 基本的には解説とサンプルコードがセットになっているのでセルを選択して実行（<kbd>Ctrl</kbd> + <kbd>Enter</kbd>）していくだけで流れを追うことができます"
   ]
  },
  {
   "cell_type": "markdown",
   "metadata": {
    "slideshow": {
     "slide_type": "slide"
    }
   },
   "source": [
    "## Jupyter notebook を起動しよう"
   ]
  },
  {
   "cell_type": "markdown",
   "metadata": {
    "slideshow": {
     "slide_type": "subslide"
    }
   },
   "source": [
    "### git clone した chemo-wakate/tutorial-6th ディレクトリで以下のコマンドを実行して起動\n",
    "\n",
    "`-v` で、起動するDockerコンテナにホストマシンのディレクトリをマウントすることができます。  \n",
    "\n",
    "**-v <font color=\"#ff0000\">マウントしたいホストマシンのディレクトリ</font>:<font color=\"#0000ff\">Dockerコンテナ内のマウントしたい位置</font>**\n",
    "\n",
    "### 💡TRY!!💡\n",
    "\n",
    "docker run --rm -it -p 8888:8888 \\  \n",
    "&nbsp;&nbsp;&nbsp;&nbsp;**-v <font color=\"#ff0000\">~/chemo-wakate/tutorial-6th/</font>:<font color=\"#0000ff\">/home/jovyan/chemo</font>** \\  \n",
    "&nbsp;&nbsp;&nbsp;&nbsp;chemo-wakate/tutorial-6th"
   ]
  },
  {
   "cell_type": "markdown",
   "metadata": {
    "slideshow": {
     "slide_type": "slide"
    }
   },
   "source": [
    "## ヘルプを確認してみよう"
   ]
  },
  {
   "cell_type": "markdown",
   "metadata": {
    "slideshow": {
     "slide_type": "subslide"
    }
   },
   "source": [
    "### 💡TRY!!💡\n",
    "<kbd>h</kbd> を入力して、ヘルプメッセージを確認しましょう。  \n",
    "うまく表示されない場合は <kbd>Esc</kbd>を入力してから再度<kbd>h</kbd> を入力してみてください。"
   ]
  },
  {
   "cell_type": "markdown",
   "metadata": {
    "slideshow": {
     "slide_type": "subslide"
    }
   },
   "source": [
    "### 重要な操作方法のまとめ\n",
    "- <kbd>h</kbd>: ヘルプを表示する\n",
    "- <kbd>Esc</kbd>: コマンドモードに移行する（セルの枠が青）\n",
    "- <kbd>Enter</kbd>: 編集モードに移行する（セルの枠が緑）\n",
    "- コマンドモードで、<kbd>a</kbd>: ひとつ**上**に空のセルを挿入\n",
    "- コマンドモードで、<kbd>b</kbd>: ひとつ**下**に空のセルを挿入\n",
    "- コマンドモードで、<kbd>j</kbd> or <kbd>k</kbd>: セルを上下に移動\n",
    "- コマンドモードで、<kbd>d</kbd><kbd>d</kbd>: セルを削除\n",
    "- <kbd>Ctrl</kbd>+<kbd>Enter</kbd>: セルの内容を実行"
   ]
  },
  {
   "cell_type": "markdown",
   "metadata": {
    "slideshow": {
     "slide_type": "slide"
    }
   },
   "source": [
    "## Zen of Python\n",
    "- Pythonの禅を知る\n",
    "- Pythonを書く覚悟を決めるべし"
   ]
  },
  {
   "cell_type": "markdown",
   "metadata": {
    "scrolled": true,
    "slideshow": {
     "slide_type": "subslide"
    }
   },
   "source": [
    "### 💡TRY!!💡\n",
    "新しいセルを作成して、 `import this` と入力して実行しよう"
   ]
  },
  {
   "cell_type": "markdown",
   "metadata": {
    "collapsed": true,
    "slideshow": {
     "slide_type": "slide"
    }
   },
   "source": [
    "## 変数\n",
    "- 動的型付け\n",
    "- 変数名はスネークケース（snake_case）\n",
    "- 宣言不要\n",
    "- 破壊的に代入される"
   ]
  },
  {
   "cell_type": "markdown",
   "metadata": {
    "slideshow": {
     "slide_type": "subslide"
    }
   },
   "source": [
    "## 代入\n",
    "- `=` 演算子で変数に値を代入\n",
    "- `=` の前後には半角スペースを入れる"
   ]
  },
  {
   "cell_type": "code",
   "execution_count": null,
   "metadata": {
    "collapsed": true,
    "slideshow": {
     "slide_type": "fragment"
    }
   },
   "outputs": [],
   "source": [
    "a = 1\n",
    "a"
   ]
  },
  {
   "cell_type": "markdown",
   "metadata": {
    "slideshow": {
     "slide_type": "subslide"
    }
   },
   "source": [
    "## 破壊的代入\n",
    "- 既に代入済みの変数に再代入すると新しい値に置き換わる（破壊的代入）"
   ]
  },
  {
   "cell_type": "code",
   "execution_count": null,
   "metadata": {
    "collapsed": true,
    "slideshow": {
     "slide_type": "fragment"
    }
   },
   "outputs": [],
   "source": [
    "a = 1\n",
    "a = 5\n",
    "a"
   ]
  },
  {
   "cell_type": "markdown",
   "metadata": {
    "slideshow": {
     "slide_type": "slide"
    }
   },
   "source": [
    "## 演算子"
   ]
  },
  {
   "cell_type": "markdown",
   "metadata": {
    "slideshow": {
     "slide_type": "fragment"
    }
   },
   "source": [
    "| 算法 | 記号 |\n",
    "| ----- | ----- |\n",
    "| 除算 | `/` |\n",
    "| 除算（小数点以下切り捨て）| `//`|\n",
    "| 加算 | `+` |\n",
    "| 減算 | `-` |\n",
    "| 乗算 | `*` |\n",
    "| べき乗 | `**` |\n",
    "| 剰余 | `%` |"
   ]
  },
  {
   "cell_type": "markdown",
   "metadata": {
    "slideshow": {
     "slide_type": "subslide"
    }
   },
   "source": [
    "## 除算"
   ]
  },
  {
   "cell_type": "code",
   "execution_count": null,
   "metadata": {
    "collapsed": true,
    "slideshow": {
     "slide_type": "fragment"
    }
   },
   "outputs": [],
   "source": [
    "2296 / 3"
   ]
  },
  {
   "cell_type": "markdown",
   "metadata": {
    "slideshow": {
     "slide_type": "subslide"
    }
   },
   "source": [
    "## 除算（小数点以下切り捨て）"
   ]
  },
  {
   "cell_type": "code",
   "execution_count": null,
   "metadata": {
    "collapsed": true,
    "slideshow": {
     "slide_type": "fragment"
    }
   },
   "outputs": [],
   "source": [
    "2296 // 3"
   ]
  },
  {
   "cell_type": "markdown",
   "metadata": {
    "slideshow": {
     "slide_type": "subslide"
    }
   },
   "source": [
    "## 加算"
   ]
  },
  {
   "cell_type": "code",
   "execution_count": null,
   "metadata": {
    "collapsed": true,
    "slideshow": {
     "slide_type": "fragment"
    }
   },
   "outputs": [],
   "source": [
    "123 + 223"
   ]
  },
  {
   "cell_type": "markdown",
   "metadata": {
    "slideshow": {
     "slide_type": "subslide"
    }
   },
   "source": [
    "## 減算"
   ]
  },
  {
   "cell_type": "code",
   "execution_count": null,
   "metadata": {
    "collapsed": true,
    "slideshow": {
     "slide_type": "fragment"
    }
   },
   "outputs": [],
   "source": [
    "33 - 4"
   ]
  },
  {
   "cell_type": "markdown",
   "metadata": {
    "slideshow": {
     "slide_type": "subslide"
    }
   },
   "source": [
    "## 乗算"
   ]
  },
  {
   "cell_type": "code",
   "execution_count": null,
   "metadata": {
    "collapsed": true,
    "slideshow": {
     "slide_type": "fragment"
    }
   },
   "outputs": [],
   "source": [
    "2 * 8"
   ]
  },
  {
   "cell_type": "markdown",
   "metadata": {
    "slideshow": {
     "slide_type": "subslide"
    }
   },
   "source": [
    "## べき乗"
   ]
  },
  {
   "cell_type": "code",
   "execution_count": null,
   "metadata": {
    "collapsed": true,
    "slideshow": {
     "slide_type": "fragment"
    }
   },
   "outputs": [],
   "source": [
    "2 ** 8"
   ]
  },
  {
   "cell_type": "markdown",
   "metadata": {
    "slideshow": {
     "slide_type": "subslide"
    }
   },
   "source": [
    "## 剰余"
   ]
  },
  {
   "cell_type": "code",
   "execution_count": null,
   "metadata": {
    "collapsed": true,
    "slideshow": {
     "slide_type": "fragment"
    }
   },
   "outputs": [],
   "source": [
    "14444 % 32"
   ]
  },
  {
   "cell_type": "markdown",
   "metadata": {
    "slideshow": {
     "slide_type": "slide"
    }
   },
   "source": [
    "# 型\n",
    "Pythonには複数の型が存在しますが、標準的なものを紹介する  \n",
    "これ以外のものは[公式ドキュメント](https://docs.python.jp/3/library/stdtypes.html)が詳しい\n",
    "- 数値型｜int\n",
    "- 文字列（テキストシーケンス）型｜Str\n",
    "- シーケンス型｜tuple, list\n",
    "- マッピング型｜dict\n",
    "- 型を調べるには `type()` を使用する"
   ]
  },
  {
   "cell_type": "markdown",
   "metadata": {
    "slideshow": {
     "slide_type": "subslide"
    }
   },
   "source": [
    "## 数値型｜int\n",
    "- 整数は `int()`\n",
    "- 整数値はそのまま int　として扱われる\n",
    "- 他に`float()` `complex()` もある"
   ]
  },
  {
   "cell_type": "code",
   "execution_count": null,
   "metadata": {
    "collapsed": true,
    "slideshow": {
     "slide_type": "fragment"
    }
   },
   "outputs": [],
   "source": [
    "## 数値\n",
    "type(123)"
   ]
  },
  {
   "cell_type": "markdown",
   "metadata": {
    "slideshow": {
     "slide_type": "subslide"
    }
   },
   "source": [
    "## 文字列（テキストシーケンス）型｜Str\n",
    "- シングルクォート `'` もしくはダブルクォート `\"` で囲うと文字列になる\n",
    "- 慣例的にシングルクォートを使用することが多い"
   ]
  },
  {
   "cell_type": "code",
   "execution_count": null,
   "metadata": {
    "collapsed": true,
    "slideshow": {
     "slide_type": "fragment"
    }
   },
   "outputs": [],
   "source": [
    "## 文字列\n",
    "type('123')"
   ]
  },
  {
   "cell_type": "markdown",
   "metadata": {
    "slideshow": {
     "slide_type": "subslide"
    }
   },
   "source": [
    "## シーケンス型｜tuple\n",
    "パーレン　`（）` で囲うとタプルとなる\n",
    "- タプルの中身は変更することができない\n",
    "- 要素には添字（**０始まり！**）でアクセス"
   ]
  },
  {
   "cell_type": "code",
   "execution_count": null,
   "metadata": {
    "collapsed": true,
    "slideshow": {
     "slide_type": "fragment"
    }
   },
   "outputs": [],
   "source": [
    "nums = (1, 2, 3)\n",
    "nums"
   ]
  },
  {
   "cell_type": "code",
   "execution_count": null,
   "metadata": {
    "collapsed": true,
    "slideshow": {
     "slide_type": "subslide"
    }
   },
   "outputs": [],
   "source": [
    "nums[0]"
   ]
  },
  {
   "cell_type": "code",
   "execution_count": null,
   "metadata": {
    "collapsed": true,
    "slideshow": {
     "slide_type": "subslide"
    }
   },
   "outputs": [],
   "source": [
    "## ０番目の要素を変更してみるけどエラーになる\n",
    "nums[0] = 5"
   ]
  },
  {
   "cell_type": "markdown",
   "metadata": {
    "slideshow": {
     "slide_type": "subslide"
    }
   },
   "source": [
    "## シーケンス型｜list\n",
    "ブラケット　`[]` で囲うとリストとなる\n",
    "- リストの中身は変更可能\n",
    "- 要素には添字（**０始まり！**）でアクセス"
   ]
  },
  {
   "cell_type": "code",
   "execution_count": null,
   "metadata": {
    "slideshow": {
     "slide_type": "subslide"
    }
   },
   "outputs": [],
   "source": [
    "elements = ['H', 'C', 'O']\n",
    "elements"
   ]
  },
  {
   "cell_type": "code",
   "execution_count": null,
   "metadata": {
    "slideshow": {
     "slide_type": "subslide"
    }
   },
   "outputs": [],
   "source": [
    "elements[0]"
   ]
  },
  {
   "cell_type": "code",
   "execution_count": null,
   "metadata": {
    "slideshow": {
     "slide_type": "subslide"
    }
   },
   "outputs": [],
   "source": [
    "## 中身を変更\n",
    "elements[0] = 'N'\n",
    "elements"
   ]
  },
  {
   "cell_type": "markdown",
   "metadata": {
    "slideshow": {
     "slide_type": "subslide"
    }
   },
   "source": [
    "## listを使いこなす\n",
    "型に組み込まれた関数　＝ メソッド\n",
    "- `.append()` で要素を追加\n",
    "- `.pop()` で要素を**後ろから**取り出す"
   ]
  },
  {
   "cell_type": "code",
   "execution_count": null,
   "metadata": {
    "slideshow": {
     "slide_type": "fragment"
    }
   },
   "outputs": [],
   "source": [
    "elements.append('Na')\n",
    "elements"
   ]
  },
  {
   "cell_type": "code",
   "execution_count": null,
   "metadata": {
    "slideshow": {
     "slide_type": "subslide"
    }
   },
   "outputs": [],
   "source": [
    "elements.pop()"
   ]
  },
  {
   "cell_type": "code",
   "execution_count": null,
   "metadata": {},
   "outputs": [],
   "source": [
    "elements"
   ]
  },
  {
   "cell_type": "markdown",
   "metadata": {
    "slideshow": {
     "slide_type": "subslide"
    }
   },
   "source": [
    "## マッピング型｜dict\n",
    "ブレース `{}` で囲い、`key` と `value` を指定すると辞書となる"
   ]
  },
  {
   "cell_type": "code",
   "execution_count": null,
   "metadata": {
    "collapsed": true,
    "slideshow": {
     "slide_type": "fragment"
    }
   },
   "outputs": [],
   "source": [
    "element_d = {'H': 1, 'C': 15, 'O': 16}\n",
    "element_d"
   ]
  },
  {
   "cell_type": "code",
   "execution_count": null,
   "metadata": {
    "collapsed": true,
    "slideshow": {
     "slide_type": "subslide"
    }
   },
   "outputs": [],
   "source": [
    "## key（キー）でvalue（値）にアクセス\n",
    "element_d['C']"
   ]
  },
  {
   "cell_type": "code",
   "execution_count": null,
   "metadata": {
    "collapsed": true,
    "slideshow": {
     "slide_type": "subslide"
    }
   },
   "outputs": [],
   "source": [
    "## 値を変更\n",
    "element_d['C'] = 12\n",
    "element_d['C']"
   ]
  },
  {
   "cell_type": "code",
   "execution_count": null,
   "metadata": {
    "collapsed": true,
    "slideshow": {
     "slide_type": "subslide"
    }
   },
   "outputs": [],
   "source": [
    "## 存在しないキーを指定して代入すると項目を追加できる\n",
    "element_d['N'] = 14\n",
    "element_d"
   ]
  },
  {
   "cell_type": "code",
   "execution_count": null,
   "metadata": {
    "collapsed": true,
    "slideshow": {
     "slide_type": "subslide"
    }
   },
   "outputs": [],
   "source": [
    "## キーにタプルを使用可能\n",
    "element_d[('C', 'C')] = 24\n",
    "element_d"
   ]
  },
  {
   "cell_type": "code",
   "execution_count": null,
   "metadata": {
    "collapsed": true,
    "slideshow": {
     "slide_type": "subslide"
    }
   },
   "outputs": [],
   "source": [
    "## キーにリストは使えない（リストは値の中身を入れ替えられるので確実にキーと値を紐付けられず安全じゃない）\n",
    "element_d[['C', 'C']] = 24\n",
    "element_d"
   ]
  },
  {
   "cell_type": "markdown",
   "metadata": {
    "slideshow": {
     "slide_type": "subslide"
    }
   },
   "source": [
    "## dictを使いこなす\n",
    "- `.keys()` でキーのリストを取得\n",
    "- `.values()` で値のリストを取得\n",
    "- `.items()` でキーと値のタプルのリストを取得"
   ]
  },
  {
   "cell_type": "code",
   "execution_count": null,
   "metadata": {
    "collapsed": true,
    "slideshow": {
     "slide_type": "fragment"
    }
   },
   "outputs": [],
   "source": [
    "element_d.keys()"
   ]
  },
  {
   "cell_type": "code",
   "execution_count": null,
   "metadata": {
    "collapsed": true,
    "slideshow": {
     "slide_type": "subslide"
    }
   },
   "outputs": [],
   "source": [
    "element_d.values()"
   ]
  },
  {
   "cell_type": "code",
   "execution_count": null,
   "metadata": {
    "collapsed": true,
    "slideshow": {
     "slide_type": "subslide"
    }
   },
   "outputs": [],
   "source": [
    "element_d.items()"
   ]
  },
  {
   "cell_type": "markdown",
   "metadata": {
    "slideshow": {
     "slide_type": "slide"
    }
   },
   "source": [
    "## 組み込み関数\n",
    "\n",
    "組み込み関数はそんなに多くない上によく使うのが `print()` ぐらい\n",
    "\n",
    "[2. 組み込み関数 — Python 3.5.3 ドキュメント](https://docs.python.jp/3/library/functions.html)"
   ]
  },
  {
   "cell_type": "markdown",
   "metadata": {
    "slideshow": {
     "slide_type": "subslide"
    }
   },
   "source": [
    "## print()\n",
    "文字列をコマンドライン上に出力する関数"
   ]
  },
  {
   "cell_type": "code",
   "execution_count": null,
   "metadata": {
    "collapsed": true,
    "slideshow": {
     "slide_type": "fragment"
    }
   },
   "outputs": [],
   "source": [
    "print('Hello World!!')"
   ]
  },
  {
   "cell_type": "code",
   "execution_count": null,
   "metadata": {
    "collapsed": true,
    "slideshow": {
     "slide_type": "subslide"
    }
   },
   "outputs": [],
   "source": [
    "## print関数の中で演算もできる\n",
    "greeting = 'Hello World!!'\n",
    "print(greeting*1000)"
   ]
  },
  {
   "cell_type": "markdown",
   "metadata": {
    "slideshow": {
     "slide_type": "slide"
    }
   },
   "source": [
    "## ここまでのまとめ\n",
    "- 演算子は数学記号とほとんど同じ\n",
    "- 変数に値を代入できる\n",
    "- タプル; `(1, 2, 3)`\n",
    "- リスト; `[1, 2, 3]`\n",
    "- 辞書; `{'first': 1, 'second': 2, 'third': 3}`\n",
    "- `print()`"
   ]
  },
  {
   "cell_type": "markdown",
   "metadata": {
    "slideshow": {
     "slide_type": "slide"
    }
   },
   "source": [
    "## 様々なプログラムの制御方法\n",
    "- `if` ： 条件分岐\n",
    "- `while` ： 繰り返し処理\n",
    "- `for` ： 繰り返し処理"
   ]
  },
  {
   "cell_type": "markdown",
   "metadata": {
    "slideshow": {
     "slide_type": "subslide"
    }
   },
   "source": [
    "## if文\n",
    "- Perlなどと異なり、if文の節が `{}` に囲まれていないことに注目\n",
    "- そのかわり、インデントを揃えることでif文のブロック（インデントブロック）を明示している\n",
    "- **Pythonにおいてインデントブロックは、読みやすくするだけではなく、プログラミング上で意味のあるものとなっていることに注目**\n",
    "- インデントの方法は様々だがPythonにおいては **半角スペース４文字** が推奨されている\n",
    "    - Jupyter notebookでは<kbd>TAB</kbd>によって半角スペース４つが挿入される\n",
    "    - <kbd>Shift</kbd>+<kbd>TAB</kbd>でde-indent"
   ]
  },
  {
   "cell_type": "code",
   "execution_count": null,
   "metadata": {
    "collapsed": true,
    "slideshow": {
     "slide_type": "subslide"
    }
   },
   "outputs": [],
   "source": [
    "v = 100\n",
    "if v > 10:\n",
    "    print(v,  'is greater than 10')"
   ]
  },
  {
   "cell_type": "code",
   "execution_count": null,
   "metadata": {
    "collapsed": true,
    "slideshow": {
     "slide_type": "subslide"
    }
   },
   "outputs": [],
   "source": [
    "v = 5\n",
    "if v > 10:\n",
    "    print(v,  'is greater than 10')\n",
    "else:\n",
    "    print(v,  'is less than 10')"
   ]
  },
  {
   "cell_type": "code",
   "execution_count": null,
   "metadata": {
    "collapsed": true,
    "slideshow": {
     "slide_type": "subslide"
    }
   },
   "outputs": [],
   "source": [
    "v = 10\n",
    "if v == 10:\n",
    "    print(v,  'is equal to 10')\n",
    "elif v > 10:\n",
    "    print(v,  'is greater than 10')\n",
    "else:\n",
    "    print(v,  'is less than 10')"
   ]
  },
  {
   "cell_type": "markdown",
   "metadata": {
    "collapsed": true,
    "slideshow": {
     "slide_type": "subslide"
    }
   },
   "source": [
    "## while文\n",
    "- 指定した条件文が真（True）である限り処理を繰り返す"
   ]
  },
  {
   "cell_type": "code",
   "execution_count": null,
   "metadata": {
    "collapsed": true,
    "slideshow": {
     "slide_type": "subslide"
    }
   },
   "outputs": [],
   "source": [
    "## 100以下のフィボナッチ数列を計算してみる\n",
    "a, b = 0, 1\n",
    "while b < 100:\n",
    "    print(b)\n",
    "    a, b = b, a+b"
   ]
  },
  {
   "cell_type": "markdown",
   "metadata": {
    "slideshow": {
     "slide_type": "subslide"
    }
   },
   "source": [
    "## for文\n",
    "- 指定した回数処理を繰り返す"
   ]
  },
  {
   "cell_type": "code",
   "execution_count": null,
   "metadata": {
    "collapsed": true,
    "slideshow": {
     "slide_type": "subslide"
    }
   },
   "outputs": [],
   "source": [
    "## リストに保存された文字列の長さを出力してみる\n",
    "##     - len() は要素の数を返す関数\n",
    "##     - 文字列型は一文字が一つの要素として扱われるので、文字数が返ってくる\n",
    "words = ['cat', 'window', 'defenestrate']\n",
    "for word in words:\n",
    "    print(word, len(word))"
   ]
  },
  {
   "cell_type": "code",
   "execution_count": null,
   "metadata": {
    "collapsed": true,
    "slideshow": {
     "slide_type": "subslide"
    }
   },
   "outputs": [],
   "source": [
    "## リストに保存された文字列の長さを出力してみる（index番号もほしい！）\n",
    "##     - len() は要素の数を返す関数\n",
    "##     - 文字列型は一文字が一つの要素として扱われるので、文字数が返ってくる\n",
    "##     - enumerate()を使うと添字も取得できます\n",
    "words = ['cat', 'window', 'defenestrate']\n",
    "for index, word in enumerate(words):\n",
    "    print(index, word, len(word))"
   ]
  },
  {
   "cell_type": "code",
   "execution_count": null,
   "metadata": {
    "collapsed": true,
    "slideshow": {
     "slide_type": "subslide"
    }
   },
   "outputs": [],
   "source": [
    "## PythonではC言語風の書き方は存在しないのでこの処理をn回繰り返すといったときはこう書く\n",
    "for i in range(5):\n",
    "    print(i)"
   ]
  },
  {
   "cell_type": "code",
   "execution_count": null,
   "metadata": {
    "collapsed": true,
    "slideshow": {
     "slide_type": "subslide"
    }
   },
   "outputs": [],
   "source": [
    "## 途中で処理を止める | break\n",
    "for i in range(10):\n",
    "    print(i)\n",
    "    if i >= 5:\n",
    "        break"
   ]
  },
  {
   "cell_type": "code",
   "execution_count": null,
   "metadata": {
    "collapsed": true,
    "slideshow": {
     "slide_type": "subslide"
    }
   },
   "outputs": [],
   "source": [
    "## （ループの先頭に戻って）処理を続ける | continue\n",
    "for i in range(20):\n",
    "    print(i)\n",
    "    if i >= 5:\n",
    "        continue\n",
    "    print('\\n5未満だけ実行される\\n')"
   ]
  },
  {
   "cell_type": "markdown",
   "metadata": {
    "slideshow": {
     "slide_type": "slide"
    }
   },
   "source": [
    "## PythonでFizzBuzz\n",
    "- 1から100の数字を順に出力\n",
    "- 3の倍数のときは数字ではなく **Fizz** と出力\n",
    "- 5の倍数のときは数字ではなく **Buzz** と出力\n",
    "- 3と5の公倍数のときは数字ではなく **FizzBuzz** と出力"
   ]
  },
  {
   "cell_type": "code",
   "execution_count": null,
   "metadata": {
    "collapsed": true,
    "slideshow": {
     "slide_type": "subslide"
    }
   },
   "outputs": [],
   "source": [
    "for i in range(1, 101):\n",
    "    if i % 15 == 0:\n",
    "        print(\"FizzBuzz\")\n",
    "    elif i % 3 == 0:\n",
    "        print(\"Fizz\")\n",
    "    elif i % 5 == 0:\n",
    "        print(\"Buzz\")\n",
    "    else:\n",
    "        print(i)"
   ]
  },
  {
   "cell_type": "markdown",
   "metadata": {
    "slideshow": {
     "slide_type": "slide"
    }
   },
   "source": [
    "## 関数定義\n",
    "- 機能単位で関数化してしまうと読みやすく、再利用の際も便利\n",
    "- 関数名はスネークケース（ `_` でつなぐ）を推奨"
   ]
  },
  {
   "cell_type": "code",
   "execution_count": null,
   "metadata": {
    "collapsed": true,
    "slideshow": {
     "slide_type": "subslide"
    }
   },
   "outputs": [],
   "source": [
    "## 足し算をする関数\n",
    "def add_num(a, b):\n",
    "    return a + b\n",
    "\n",
    "# 実行してみる\n",
    "add_num(32, 40)"
   ]
  },
  {
   "cell_type": "markdown",
   "metadata": {
    "slideshow": {
     "slide_type": "subslide"
    }
   },
   "source": [
    "## 💡TRY!!💡 関数を作ってみる（5 min.）\n",
    "#### 要件定義\n",
    "- 関数の名前は、  `is_fizzbuzz()`\n",
    "- 数値を１つ引数に指定可能\n",
    "- 引数で与えられた数値に対してFizzBuzzを判定して判定結果の文字列（`Fizz` or `Buzz` or `FizzBuzz`）を返す\n",
    "    - いずれにも当てはまらない値の場合は `False` を返す"
   ]
  },
  {
   "cell_type": "markdown",
   "metadata": {
    "slideshow": {
     "slide_type": "slide"
    }
   },
   "source": [
    "## モジュールの使用\n",
    "- Pythonを科学技術計算で使用するメリットのひとつは計算用ライブラリが豊富な点\n",
    "- （Pythonスクリプトではなく） `pip` コマンドでモジュールをインストール（今回はDocker環境を使っているので実行しない）\n",
    "    - Pythonには標準でもたくさんモジュールが入っている\n",
    "    - [Python 標準ライブラリ — Python 3.6.1 ドキュメント](https://docs.python.jp/3/library/index.html)\n",
    "- `import ${module_name}` でモジュールを読み込む\n",
    "- 冒頭でやった `import this` も同じ"
   ]
  },
  {
   "cell_type": "markdown",
   "metadata": {
    "slideshow": {
     "slide_type": "subslide"
    }
   },
   "source": [
    "## 作業ディレクトリのパスを取得する｜OSモジュール\n",
    "- osの操作をするためのモジュール\n",
    "- [16.1. os — 雑多なオペレーティングシステムインタフェース — Python 3.6.1 ドキュメント](https://docs.python.jp/3/library/os.html#module-os)"
   ]
  },
  {
   "cell_type": "code",
   "execution_count": null,
   "metadata": {
    "collapsed": true,
    "slideshow": {
     "slide_type": "fragment"
    }
   },
   "outputs": [],
   "source": [
    "import os"
   ]
  },
  {
   "cell_type": "code",
   "execution_count": null,
   "metadata": {
    "collapsed": true,
    "slideshow": {
     "slide_type": "fragment"
    }
   },
   "outputs": [],
   "source": [
    "os.getcwd()"
   ]
  },
  {
   "cell_type": "markdown",
   "metadata": {
    "slideshow": {
     "slide_type": "slide"
    }
   },
   "source": [
    "## numpyを使ってみる\n",
    "- 行列計算のためのライブラリ\n",
    "- for文などによる繰り返し処理は実行時間がかかるので、行列計算でうまく処理すると大幅な効率改善につながる\n",
    "- [Quickstart tutorial — NumPy v1.13 Manual](https://docs.scipy.org/doc/numpy/user/quickstart.html)"
   ]
  },
  {
   "cell_type": "code",
   "execution_count": null,
   "metadata": {
    "collapsed": true,
    "slideshow": {
     "slide_type": "subslide"
    }
   },
   "outputs": [],
   "source": [
    "import numpy as np  # 慣例的に as np として省略した名前でimportすることが多い\n",
    "a = np.array([1, 2, 3])  # numpyアレイを作成\n",
    "a"
   ]
  },
  {
   "cell_type": "code",
   "execution_count": null,
   "metadata": {
    "collapsed": true,
    "slideshow": {
     "slide_type": "subslide"
    }
   },
   "outputs": [],
   "source": [
    "a.dtype"
   ]
  },
  {
   "cell_type": "code",
   "execution_count": null,
   "metadata": {
    "collapsed": true,
    "slideshow": {
     "slide_type": "subslide"
    }
   },
   "outputs": [],
   "source": [
    "b = np.array([1.2, 3.5, 5.1])\n",
    "b"
   ]
  },
  {
   "cell_type": "code",
   "execution_count": null,
   "metadata": {
    "collapsed": true,
    "slideshow": {
     "slide_type": "subslide"
    }
   },
   "outputs": [],
   "source": [
    "b.dtype"
   ]
  },
  {
   "cell_type": "markdown",
   "metadata": {
    "slideshow": {
     "slide_type": "subslide"
    }
   },
   "source": [
    "### 様々な行列"
   ]
  },
  {
   "cell_type": "code",
   "execution_count": null,
   "metadata": {
    "collapsed": true,
    "slideshow": {
     "slide_type": "fragment"
    }
   },
   "outputs": [],
   "source": [
    "np.arange(6)   # 1次元"
   ]
  },
  {
   "cell_type": "code",
   "execution_count": null,
   "metadata": {
    "collapsed": true,
    "slideshow": {
     "slide_type": "subslide"
    }
   },
   "outputs": [],
   "source": [
    "np.arange(12).reshape(4, 3)  # 2次元"
   ]
  },
  {
   "cell_type": "code",
   "execution_count": null,
   "metadata": {
    "collapsed": true,
    "slideshow": {
     "slide_type": "subslide"
    }
   },
   "outputs": [],
   "source": [
    "np.arange(24).reshape(2, 3, 4)  # 3次元"
   ]
  },
  {
   "cell_type": "code",
   "execution_count": null,
   "metadata": {
    "collapsed": true,
    "slideshow": {
     "slide_type": "subslide"
    }
   },
   "outputs": [],
   "source": [
    "np.random.rand(10, 10)  # 10x10 の乱数行列"
   ]
  },
  {
   "cell_type": "markdown",
   "metadata": {
    "slideshow": {
     "slide_type": "subslide"
    }
   },
   "source": [
    "## 行列の計算"
   ]
  },
  {
   "cell_type": "code",
   "execution_count": null,
   "metadata": {
    "collapsed": true,
    "slideshow": {
     "slide_type": "fragment"
    }
   },
   "outputs": [],
   "source": [
    "## 引き算\n",
    "a = np.array([20, 30, 40, 50])\n",
    "b = np.arange(4)\n",
    "a - b"
   ]
  },
  {
   "cell_type": "code",
   "execution_count": null,
   "metadata": {
    "collapsed": true,
    "slideshow": {
     "slide_type": "subslide"
    }
   },
   "outputs": [],
   "source": [
    "a * b  # 掛け算"
   ]
  },
  {
   "cell_type": "markdown",
   "metadata": {
    "slideshow": {
     "slide_type": "subslide"
    }
   },
   "source": [
    "## 行列へのアクセス"
   ]
  },
  {
   "cell_type": "markdown",
   "metadata": {
    "slideshow": {
     "slide_type": "subslide"
    }
   },
   "source": [
    "## 1次元の場合"
   ]
  },
  {
   "cell_type": "code",
   "execution_count": null,
   "metadata": {
    "collapsed": true,
    "slideshow": {
     "slide_type": "fragment"
    }
   },
   "outputs": [],
   "source": [
    "a = np.random.rand(20) \n",
    "a"
   ]
  },
  {
   "cell_type": "code",
   "execution_count": null,
   "metadata": {
    "collapsed": true,
    "slideshow": {
     "slide_type": "subslide"
    }
   },
   "outputs": [],
   "source": [
    "# 2番目の要素を取り出す\n",
    "a[1]"
   ]
  },
  {
   "cell_type": "code",
   "execution_count": null,
   "metadata": {
    "collapsed": true,
    "slideshow": {
     "slide_type": "subslide"
    }
   },
   "outputs": [],
   "source": [
    "# 4番目から8番目の要素を取り出す\n",
    "a[4:9]"
   ]
  },
  {
   "cell_type": "code",
   "execution_count": null,
   "metadata": {
    "collapsed": true,
    "slideshow": {
     "slide_type": "subslide"
    }
   },
   "outputs": [],
   "source": [
    "# 逆順で取り出す\n",
    "a[::-1]"
   ]
  },
  {
   "cell_type": "markdown",
   "metadata": {
    "slideshow": {
     "slide_type": "subslide"
    }
   },
   "source": [
    "## 2次元の場合"
   ]
  },
  {
   "cell_type": "code",
   "execution_count": null,
   "metadata": {
    "collapsed": true,
    "scrolled": true,
    "slideshow": {
     "slide_type": "fragment"
    }
   },
   "outputs": [],
   "source": [
    "a = np.random.rand(10, 3)\n",
    "a"
   ]
  },
  {
   "cell_type": "code",
   "execution_count": null,
   "metadata": {
    "collapsed": true,
    "slideshow": {
     "slide_type": "subslide"
    }
   },
   "outputs": [],
   "source": [
    "a[0][0]  # １番目の配列の１番目の要素"
   ]
  },
  {
   "cell_type": "code",
   "execution_count": null,
   "metadata": {
    "collapsed": true,
    "slideshow": {
     "slide_type": "subslide"
    }
   },
   "outputs": [],
   "source": [
    "a[0, 0]  # １番目の配列の１番目の要素（書き方違い）"
   ]
  },
  {
   "cell_type": "code",
   "execution_count": null,
   "metadata": {
    "collapsed": true,
    "slideshow": {
     "slide_type": "subslide"
    }
   },
   "outputs": [],
   "source": [
    "a[0:5, 0]  # １番目から５番目の配列の１番目の要素"
   ]
  },
  {
   "cell_type": "markdown",
   "metadata": {
    "slideshow": {
     "slide_type": "subslide"
    }
   },
   "source": [
    "## numpy ほんとに速いの？"
   ]
  },
  {
   "cell_type": "code",
   "execution_count": null,
   "metadata": {
    "collapsed": true,
    "slideshow": {
     "slide_type": "subslide"
    }
   },
   "outputs": [],
   "source": [
    "def prod_2d(n=100):\n",
    "    a = np.random.rand(n, n)\n",
    "    b = np.random.rand(n, n)\n",
    "    c = np.zeros((n, n))  # zero 行列\n",
    "    for i in range(n):\n",
    "        for j in range(n):\n",
    "            for k in range(n):\n",
    "                c[i][ｊ] = a[i][k] * b[k][j]\n",
    "    return c"
   ]
  },
  {
   "cell_type": "code",
   "execution_count": null,
   "metadata": {
    "collapsed": true,
    "slideshow": {
     "slide_type": "subslide"
    }
   },
   "outputs": [],
   "source": [
    "def prod_2d_np(n=100):\n",
    "    a = np.random.rand(n, n)\n",
    "    b = np.random.rand(n, n)\n",
    "    return np.dot(a, b)"
   ]
  },
  {
   "cell_type": "code",
   "execution_count": null,
   "metadata": {
    "collapsed": true,
    "slideshow": {
     "slide_type": "subslide"
    }
   },
   "outputs": [],
   "source": [
    "# numpy使わずに計算した場合\n",
    "%timeit result = prod_2d(n=150)"
   ]
  },
  {
   "cell_type": "code",
   "execution_count": null,
   "metadata": {
    "collapsed": true,
    "slideshow": {
     "slide_type": "fragment"
    }
   },
   "outputs": [],
   "source": [
    "# numpyを使って計算した場合\n",
    "%timeit result = prod_2d_np(n=150)"
   ]
  },
  {
   "cell_type": "markdown",
   "metadata": {
    "slideshow": {
     "slide_type": "slide"
    }
   },
   "source": [
    "## 💡TRY!!💡Jupyter notebook上で関数のヘルプを見る\n",
    "- np.zeros() って言う知らない関数が出てきたんだけど\n",
    "- 新しいセルで `?np.zeros()` を実行してみる"
   ]
  },
  {
   "cell_type": "markdown",
   "metadata": {
    "slideshow": {
     "slide_type": "slide"
    }
   },
   "source": [
    "## さいごに\n",
    "- わからないことはGoogleで検索！！\n",
    "- スモールステップで動作確認\n",
    "- ヘルプを活用！！"
   ]
  },
  {
   "cell_type": "markdown",
   "metadata": {
    "slideshow": {
     "slide_type": "slide"
    }
   },
   "source": [
    "## 💡TRY!!💡 more\n",
    "もっとPythonで楽しみたい方はトライしてみてください"
   ]
  },
  {
   "cell_type": "markdown",
   "metadata": {
    "slideshow": {
     "slide_type": "slide"
    }
   },
   "source": [
    "## リスト内包表記で書き換えて高速化\n",
    "入力したリストの数値をそれぞれ2乗して返してくれる関数 `square()` を定義しました。  \n",
    "この関数を **リスト内包表記** でもっと高速に処理するよう書き換えてみてください。  \n",
    "→ リスト内包表記はネット検索！！\n",
    "\n",
    "**まずはセルをコピーして、実行方法は変えずに関数の中身だけ変えてみてください**"
   ]
  },
  {
   "cell_type": "code",
   "execution_count": null,
   "metadata": {
    "collapsed": true,
    "slideshow": {
     "slide_type": "subslide"
    }
   },
   "outputs": [],
   "source": [
    "import numpy as np  # 乱数の生成に使用\n",
    "np.random.seed(123)  # 毎回同じ乱数が生成されるようにシード値を固定"
   ]
  },
  {
   "cell_type": "code",
   "execution_count": null,
   "metadata": {
    "slideshow": {
     "slide_type": "subslide"
    }
   },
   "outputs": [],
   "source": [
    "def square(nums):\n",
    "    results = []\n",
    "    for num in nums:\n",
    "        results.append(num ** 2)\n",
    "    return results\n",
    "\n",
    "%timeit square(np.random.rand(1000000))"
   ]
  },
  {
   "cell_type": "markdown",
   "metadata": {},
   "source": [
    "## スクリプトファイルに保存してPythonを実行してみる\n",
    "今回のようにJupyter notebookを使用せず、スクリプトファイルとして実行したい場合、テキストファイルとして保存してターミナル上で実行することになる。実はJupyter notebookでもターミナルを実行することができるのでかんたんなスクリプトを書いてみよう。\n",
    "\n",
    "1. `New` メニューから `Text file` を選択\n",
    "<img width=\"784\" alt=\"2017-09-29 18 30 52\" src=\"https://user-images.githubusercontent.com/7918702/31010288-50cf021e-a545-11e7-8b6b-6569a2a28855.png\">\n",
    "2. タイトル（ファイル名）の拡張子を `.py` に変更し、スクリプトを書く。この時 `Language` タブからPythonを選んでおくとシンタックスハイライトが有効になる\n",
    "<img width=\"454\" alt=\"2017-09-29 18 33 49\" src=\"https://user-images.githubusercontent.com/7918702/31010346-8062dd16-a545-11e7-9026-4d29ea03a96a.png\">\n",
    "3. もう一度メニューから `Terminal` を選択し、ターミナルを起動する（ブラウザ経由でターミナルを操作できます）\n",
    "<img width=\"784\" alt=\"2017-09-29 18 31 35\" src=\"https://user-images.githubusercontent.com/7918702/31010419-c2b52246-a545-11e7-80af-dd5e5f0741cb.png\">\n",
    "4. `chemo/beginner` へ移動し、 `python sample.py` を実行する\n",
    "<img width=\"521\" alt=\"2017-09-29 18 34 25\" src=\"https://user-images.githubusercontent.com/7918702/31010453-dd831240-a545-11e7-88f0-ac89ab7bbe39.png\">"
   ]
  },
  {
   "cell_type": "markdown",
   "metadata": {
    "slideshow": {
     "slide_type": "slide"
    }
   },
   "source": [
    "## おすすめPython本\n",
    "- [O'Reilly Japan - Effective Python](https://www.oreilly.co.jp/books/9784873117560/)\n",
    "    - よりPythonらしいPythonを書くために！\n",
    "- [O'Reilly Japan - ゼロから作るDeep Learning](https://www.oreilly.co.jp/books/9784873117584/)\n",
    "    - Pythonの解説もついていてDeep Learningも学べます（メインはDL）\n",
    "- [Pythonプロフェッショナルプログラミング 第2版 | 株式会社ビープラウド | 工学 | Kindleストア | Amazon](https://www.amazon.co.jp/dp/B00XZTYMG6/ref=dp-kindle-redirect?_encoding=UTF8&btkr=1)\n",
    "    - PythonでWEBアプリを作るなら！"
   ]
  }
 ],
 "metadata": {
  "celltoolbar": "Slideshow",
  "kernelspec": {
   "display_name": "Python 3",
   "language": "python",
   "name": "python3"
  },
  "language_info": {
   "codemirror_mode": {
    "name": "ipython",
    "version": 3
   },
   "file_extension": ".py",
   "mimetype": "text/x-python",
   "name": "python",
   "nbconvert_exporter": "python",
   "pygments_lexer": "ipython3",
   "version": "3.6.2"
  }
 },
 "nbformat": 4,
 "nbformat_minor": 2
}
