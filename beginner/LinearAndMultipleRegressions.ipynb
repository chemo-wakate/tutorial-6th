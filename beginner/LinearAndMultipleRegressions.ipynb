{
 "cells": [
  {
   "cell_type": "markdown",
   "metadata": {},
   "source": [
    "<h3 STYLE=\"background: #c2edff;padding: 0.5em;\">Step 5. 線形回帰</h3>\n",
    "\n",
    "<ol>\n",
    "<li><a href=\"#1\">「ワインの品質」データ読み込み</a>\n",
    "<li><a href=\"#2\">単回帰分析</a>\n",
    "<li><a href=\"#3\">重回帰分析</a>\n",
    "<li><a href=\"#4\">練習</a>\n",
    "</ol>"
   ]
  },
  {
   "cell_type": "code",
   "execution_count": 20,
   "metadata": {
    "collapsed": true
   },
   "outputs": [],
   "source": [
    "# 数値計算やデータフレーム操作に関するライブラリをインポートする\n",
    "import numpy as np\n",
    "import pandas as pd"
   ]
  },
  {
   "cell_type": "code",
   "execution_count": 2,
   "metadata": {
    "collapsed": true
   },
   "outputs": [],
   "source": [
    "# URL によるリソースへのアクセスを提供するライブラリをインポートする。\n",
    "# import urllib # Python 2 の場合\n",
    "import urllib.request # Python 3 の場合"
   ]
  },
  {
   "cell_type": "markdown",
   "metadata": {},
   "source": [
    "<h3 STYLE=\"background: #c2edff;padding: 0.5em;\"><a name=\"1\">1. 「ワインの品質」データ読み込み</a></h3>\n",
    "\n",
    "データは <a href=\"http://archive.ics.uci.edu/ml/index.php\" target=\"_blank\">UC Irvine Machine Learning Repository</a> から取得したものを少し改変しました。\n",
    "\n",
    "* 赤ワイン https://raw.githubusercontent.com/chemo-wakate/tutorial-6th/master/beginner/data/winequality-red.txt\n",
    "\n",
    "* 白ワイン https://raw.githubusercontent.com/chemo-wakate/tutorial-6th/master/beginner/data/winequality-white.txt\n",
    "\n",
    "<h4 style=\"border-bottom: solid 1px black;\">　<a href=\"http://archive.ics.uci.edu/ml/machine-learning-databases/wine-quality/winequality.names\">詳細</a></h4>\n",
    "\n",
    "<ol>\n",
    "<li>fixed acidity : 不揮発酸濃度（ほぼ酒石酸濃度）\n",
    "<li>volatile acidity : 揮発酸濃度（ほぼ酢酸濃度）\n",
    "<li>citric acid : クエン酸濃度\n",
    "<li>residual sugar : 残存糖濃度\n",
    "<li>chlorides : 塩化物濃度\n",
    "<li>free sulfur dioxide : 遊離亜硫酸濃度\n",
    "<li>total sulfur dioxide : 亜硫酸濃度\n",
    "<li>density : 密度\n",
    "<li>pH : pH\n",
    "<li>sulphates : 硫酸塩濃度\n",
    "<li>alcohol : アルコール度数\n",
    "<li>quality (score between 0 and 10) : 0-10 の値で示される品質のスコア\n",
    "</ol>"
   ]
  },
  {
   "cell_type": "code",
   "execution_count": 3,
   "metadata": {
    "collapsed": false
   },
   "outputs": [
    {
     "data": {
      "text/plain": [
       "('winequality-red.txt', <http.client.HTTPMessage at 0x106629dd8>)"
      ]
     },
     "execution_count": 3,
     "metadata": {},
     "output_type": "execute_result"
    }
   ],
   "source": [
    "# ウェブ上のリソースを指定する\n",
    "url = 'https://raw.githubusercontent.com/chemo-wakate/tutorial-6th/master/beginner/data/winequality-red.txt'\n",
    "# 指定したURLからリソースをダウンロードし、名前をつける。\n",
    "# urllib.urlretrieve(url, 'winequality-red.csv') # Python 2 の場合\n",
    "urllib.request.urlretrieve(url, 'winequality-red.txt') # Python 3 の場合"
   ]
  },
  {
   "cell_type": "code",
   "execution_count": 4,
   "metadata": {
    "collapsed": true
   },
   "outputs": [],
   "source": [
    "# データの読み込み\n",
    "df1 = pd.read_csv('winequality-red.txt', sep='\\t', index_col=0) "
   ]
  },
  {
   "cell_type": "code",
   "execution_count": 10,
   "metadata": {
    "collapsed": false
   },
   "outputs": [
    {
     "data": {
      "text/html": [
       "<div>\n",
       "<table border=\"1\" class=\"dataframe\">\n",
       "  <thead>\n",
       "    <tr style=\"text-align: right;\">\n",
       "      <th></th>\n",
       "      <th>fixed acidity</th>\n",
       "      <th>volatile acidity</th>\n",
       "      <th>citric acid</th>\n",
       "      <th>residual sugar</th>\n",
       "      <th>chlorides</th>\n",
       "      <th>free sulfur dioxide</th>\n",
       "      <th>total sulfur dioxide</th>\n",
       "      <th>density</th>\n",
       "      <th>pH</th>\n",
       "      <th>sulphates</th>\n",
       "      <th>alcohol</th>\n",
       "      <th>quality</th>\n",
       "    </tr>\n",
       "  </thead>\n",
       "  <tbody>\n",
       "    <tr>\n",
       "      <th>0</th>\n",
       "      <td>7.4</td>\n",
       "      <td>0.70</td>\n",
       "      <td>0.00</td>\n",
       "      <td>1.9</td>\n",
       "      <td>0.076</td>\n",
       "      <td>11</td>\n",
       "      <td>34</td>\n",
       "      <td>0.9978</td>\n",
       "      <td>3.51</td>\n",
       "      <td>0.56</td>\n",
       "      <td>9.4</td>\n",
       "      <td>5</td>\n",
       "    </tr>\n",
       "    <tr>\n",
       "      <th>1</th>\n",
       "      <td>7.8</td>\n",
       "      <td>0.88</td>\n",
       "      <td>0.00</td>\n",
       "      <td>2.6</td>\n",
       "      <td>0.098</td>\n",
       "      <td>25</td>\n",
       "      <td>67</td>\n",
       "      <td>0.9968</td>\n",
       "      <td>3.20</td>\n",
       "      <td>0.68</td>\n",
       "      <td>9.8</td>\n",
       "      <td>5</td>\n",
       "    </tr>\n",
       "    <tr>\n",
       "      <th>2</th>\n",
       "      <td>7.8</td>\n",
       "      <td>0.76</td>\n",
       "      <td>0.04</td>\n",
       "      <td>2.3</td>\n",
       "      <td>0.092</td>\n",
       "      <td>15</td>\n",
       "      <td>54</td>\n",
       "      <td>0.9970</td>\n",
       "      <td>3.26</td>\n",
       "      <td>0.65</td>\n",
       "      <td>9.8</td>\n",
       "      <td>5</td>\n",
       "    </tr>\n",
       "    <tr>\n",
       "      <th>3</th>\n",
       "      <td>11.2</td>\n",
       "      <td>0.28</td>\n",
       "      <td>0.56</td>\n",
       "      <td>1.9</td>\n",
       "      <td>0.075</td>\n",
       "      <td>17</td>\n",
       "      <td>60</td>\n",
       "      <td>0.9980</td>\n",
       "      <td>3.16</td>\n",
       "      <td>0.58</td>\n",
       "      <td>9.8</td>\n",
       "      <td>6</td>\n",
       "    </tr>\n",
       "    <tr>\n",
       "      <th>4</th>\n",
       "      <td>7.4</td>\n",
       "      <td>0.70</td>\n",
       "      <td>0.00</td>\n",
       "      <td>1.9</td>\n",
       "      <td>0.076</td>\n",
       "      <td>11</td>\n",
       "      <td>34</td>\n",
       "      <td>0.9978</td>\n",
       "      <td>3.51</td>\n",
       "      <td>0.56</td>\n",
       "      <td>9.4</td>\n",
       "      <td>5</td>\n",
       "    </tr>\n",
       "  </tbody>\n",
       "</table>\n",
       "</div>"
      ],
      "text/plain": [
       "   fixed acidity  volatile acidity  citric acid  residual sugar  chlorides  \\\n",
       "0            7.4              0.70         0.00             1.9      0.076   \n",
       "1            7.8              0.88         0.00             2.6      0.098   \n",
       "2            7.8              0.76         0.04             2.3      0.092   \n",
       "3           11.2              0.28         0.56             1.9      0.075   \n",
       "4            7.4              0.70         0.00             1.9      0.076   \n",
       "\n",
       "   free sulfur dioxide  total sulfur dioxide  density    pH  sulphates  \\\n",
       "0                   11                    34   0.9978  3.51       0.56   \n",
       "1                   25                    67   0.9968  3.20       0.68   \n",
       "2                   15                    54   0.9970  3.26       0.65   \n",
       "3                   17                    60   0.9980  3.16       0.58   \n",
       "4                   11                    34   0.9978  3.51       0.56   \n",
       "\n",
       "   alcohol  quality  \n",
       "0      9.4        5  \n",
       "1      9.8        5  \n",
       "2      9.8        5  \n",
       "3      9.8        6  \n",
       "4      9.4        5  "
      ]
     },
     "execution_count": 10,
     "metadata": {},
     "output_type": "execute_result"
    }
   ],
   "source": [
    "df1.head()"
   ]
  },
  {
   "cell_type": "markdown",
   "metadata": {},
   "source": [
    "<h3 STYLE=\"background: #c2edff;padding: 0.5em;\"><a name=\"2\">2. 単回帰分析</a></h3>\n",
    "\n",
    "まずは、1 つの説明変数を用いて単回帰分析を行います。"
   ]
  },
  {
   "cell_type": "code",
   "execution_count": 15,
   "metadata": {
    "collapsed": false
   },
   "outputs": [
    {
     "data": {
      "text/plain": [
       "LinearRegression(copy_X=True, fit_intercept=True, n_jobs=1, normalize=False)"
      ]
     },
     "execution_count": 15,
     "metadata": {},
     "output_type": "execute_result"
    }
   ],
   "source": [
    "# sklearn.linear_model.LinearRegression クラスを読み込み\n",
    "from sklearn import linear_model\n",
    "clf = linear_model.LinearRegression()\n",
    " \n",
    "X = df1.loc[:, ['pH']].as_matrix() # 説明変数 = pH\n",
    "Y = df1['fixed acidity'].as_matrix() # 目的変数 = fixed acidity\n",
    "clf.fit(X, Y) # 予測モデルを作成"
   ]
  },
  {
   "cell_type": "code",
   "execution_count": 16,
   "metadata": {
    "collapsed": false
   },
   "outputs": [
    {
     "data": {
      "text/plain": [
       "array([-7.70229968])"
      ]
     },
     "execution_count": 16,
     "metadata": {},
     "output_type": "execute_result"
    }
   ],
   "source": [
    "# 回帰係数\n",
    "clf.coef_"
   ]
  },
  {
   "cell_type": "code",
   "execution_count": 17,
   "metadata": {
    "collapsed": false
   },
   "outputs": [
    {
     "data": {
      "text/plain": [
       "33.822823396397531"
      ]
     },
     "execution_count": 17,
     "metadata": {},
     "output_type": "execute_result"
    }
   ],
   "source": [
    "# 切片\n",
    "clf.intercept_"
   ]
  },
  {
   "cell_type": "markdown",
   "metadata": {},
   "source": [
    "以上の結果より、次の回帰式が求められたことがわかります。"
   ]
  },
  {
   "cell_type": "code",
   "execution_count": null,
   "metadata": {
    "collapsed": true
   },
   "outputs": [],
   "source": [
    "[fixed acidity] = -7.70229968 × [pH] + 33.822823396397531"
   ]
  },
  {
   "cell_type": "markdown",
   "metadata": {},
   "source": [
    "決定係数は、寄与率とも呼ばれ、説明変数が目的変数）のどれくらいを説明できるかを表す値であり、１に近いほど分析の精度が高いことを表します。"
   ]
  },
  {
   "cell_type": "code",
   "execution_count": 14,
   "metadata": {
    "collapsed": false
   },
   "outputs": [
    {
     "data": {
      "text/plain": [
       "0.46645921425609038"
      ]
     },
     "execution_count": 14,
     "metadata": {},
     "output_type": "execute_result"
    }
   ],
   "source": [
    "# 決定係数\n",
    "clf.score(X, Y)"
   ]
  },
  {
   "cell_type": "markdown",
   "metadata": {},
   "source": [
    "結果を 2 次元座標上にプロットすると、以下のようになります。青線が回帰直線を表します。"
   ]
  },
  {
   "cell_type": "code",
   "execution_count": 54,
   "metadata": {
    "collapsed": false
   },
   "outputs": [
    {
     "data": {
      "image/png": "[encoded data removed]",
      "text/plain": [
       "<matplotlib.figure.Figure at 0x116877dd8>"
      ]
     },
     "metadata": {},
     "output_type": "display_data"
    }
   ],
   "source": [
    "# matplotlib パッケージを読み込み\n",
    "import matplotlib.pyplot as plt\n",
    " \n",
    "# 散布図\n",
    "plt.scatter(X, Y)\n",
    " \n",
    "# 回帰直線\n",
    "plt.plot(X, clf.predict(X))\n",
    "\n",
    "plt.grid()\n",
    "plt.show()"
   ]
  },
  {
   "cell_type": "markdown",
   "metadata": {},
   "source": [
    "<h3 STYLE=\"background: #c2edff;padding: 0.5em;\"><a name=\"3\">3. 重回帰</a></h3>\n",
    "\n",
    "続いて、「quality」を目的変数に、「quality」以外を説明変数として、重回帰分析を行います。"
   ]
  },
  {
   "cell_type": "code",
   "execution_count": 18,
   "metadata": {
    "collapsed": false
   },
   "outputs": [
    {
     "name": "stdout",
     "output_type": "stream",
     "text": [
      "21.9652084494\n"
     ]
    },
    {
     "data": {
      "text/html": [
       "<div>\n",
       "<table border=\"1\" class=\"dataframe\">\n",
       "  <thead>\n",
       "    <tr style=\"text-align: right;\">\n",
       "      <th></th>\n",
       "      <th>Coefficients</th>\n",
       "      <th>Name</th>\n",
       "    </tr>\n",
       "  </thead>\n",
       "  <tbody>\n",
       "    <tr>\n",
       "      <th>9</th>\n",
       "      <td>0.916334</td>\n",
       "      <td>sulphates</td>\n",
       "    </tr>\n",
       "    <tr>\n",
       "      <th>10</th>\n",
       "      <td>0.276198</td>\n",
       "      <td>alcohol</td>\n",
       "    </tr>\n",
       "    <tr>\n",
       "      <th>0</th>\n",
       "      <td>0.024991</td>\n",
       "      <td>fixed acidity</td>\n",
       "    </tr>\n",
       "    <tr>\n",
       "      <th>3</th>\n",
       "      <td>0.016331</td>\n",
       "      <td>residual sugar</td>\n",
       "    </tr>\n",
       "    <tr>\n",
       "      <th>5</th>\n",
       "      <td>0.004361</td>\n",
       "      <td>free sulfur dioxide</td>\n",
       "    </tr>\n",
       "    <tr>\n",
       "      <th>6</th>\n",
       "      <td>-0.003265</td>\n",
       "      <td>total sulfur dioxide</td>\n",
       "    </tr>\n",
       "    <tr>\n",
       "      <th>2</th>\n",
       "      <td>-0.182564</td>\n",
       "      <td>citric acid</td>\n",
       "    </tr>\n",
       "    <tr>\n",
       "      <th>8</th>\n",
       "      <td>-0.413653</td>\n",
       "      <td>pH</td>\n",
       "    </tr>\n",
       "    <tr>\n",
       "      <th>1</th>\n",
       "      <td>-1.083590</td>\n",
       "      <td>volatile acidity</td>\n",
       "    </tr>\n",
       "    <tr>\n",
       "      <th>4</th>\n",
       "      <td>-1.874225</td>\n",
       "      <td>chlorides</td>\n",
       "    </tr>\n",
       "    <tr>\n",
       "      <th>7</th>\n",
       "      <td>-17.881164</td>\n",
       "      <td>density</td>\n",
       "    </tr>\n",
       "  </tbody>\n",
       "</table>\n",
       "</div>"
      ],
      "text/plain": [
       "    Coefficients                  Name\n",
       "9       0.916334             sulphates\n",
       "10      0.276198               alcohol\n",
       "0       0.024991         fixed acidity\n",
       "3       0.016331        residual sugar\n",
       "5       0.004361   free sulfur dioxide\n",
       "6      -0.003265  total sulfur dioxide\n",
       "2      -0.182564           citric acid\n",
       "8      -0.413653                    pH\n",
       "1      -1.083590      volatile acidity\n",
       "4      -1.874225             chlorides\n",
       "7     -17.881164               density"
      ]
     },
     "execution_count": 18,
     "metadata": {},
     "output_type": "execute_result"
    }
   ],
   "source": [
    "from sklearn import linear_model\n",
    "clf = linear_model.LinearRegression()\n",
    " \n",
    "# 説明変数に \"quality (品質スコア以外すべて)\" を利用\n",
    "df1_except_quality = df1.drop(\"quality\", axis=1)\n",
    "X = df1_except_quality.as_matrix()\n",
    " \n",
    "# 目的変数に \"quality (品質スコア)\" を利用\n",
    "Y = df1['quality'].as_matrix()\n",
    " \n",
    "# 予測モデルを作成\n",
    "clf.fit(X, Y)\n",
    "  \n",
    "# 切片 (誤差)\n",
    "print(clf.intercept_)\n",
    "\n",
    "# 偏回帰係数\n",
    "pd.DataFrame({\"Name\":df1_except_quality.columns, \"Coefficients\":clf.coef_}).sort('Coefficients', ascending=False) "
   ]
  },
  {
   "cell_type": "markdown",
   "metadata": {},
   "source": [
    "上記の結果からワインの品質スコアは、以下のような回帰式で表せることがわかります。"
   ]
  },
  {
   "cell_type": "code",
   "execution_count": null,
   "metadata": {
    "collapsed": true
   },
   "outputs": [],
   "source": [
    "[quality] = 21.9652084495 + 0.916334 × [sulphates] + 0.276198 × [alcohol] +\n",
    "            0.024991 × [fixed acidity] + 0.016331 × [residual sugar] +\n",
    "            0.004361 × [free sulfur dioxide] + (-0.003265) × [total sulfur dioxide] +\n",
    "            (-0.182564) × [citric acid] + (-0.413653) × [pH] + \n",
    "            (-1.083590) × [volatile acidity] + (-1.874225) × [chlorides] +\n",
    "            (-17.881164) × [density] + "
   ]
  },
  {
   "cell_type": "markdown",
   "metadata": {},
   "source": [
    "ただし決定係数は次の値です。"
   ]
  },
  {
   "cell_type": "code",
   "execution_count": 19,
   "metadata": {
    "collapsed": false
   },
   "outputs": [
    {
     "data": {
      "text/plain": [
       "0.36055170303868822"
      ]
     },
     "execution_count": 19,
     "metadata": {},
     "output_type": "execute_result"
    }
   ],
   "source": [
    "clf.score(X, Y)"
   ]
  },
  {
   "cell_type": "markdown",
   "metadata": {},
   "source": [
    "各変数がどの程度目的変数に影響しているかを確認するには、各変数を正規化 (標準化) し、平均 = 0, 標準偏差 = 1 になるように変換した上で、重回帰分析を行うと偏回帰係数の大小で比較することができるようになります。"
   ]
  },
  {
   "cell_type": "code",
   "execution_count": 56,
   "metadata": {
    "collapsed": false
   },
   "outputs": [
    {
     "data": {
      "text/html": [
       "<div>\n",
       "<table border=\"1\" class=\"dataframe\">\n",
       "  <thead>\n",
       "    <tr style=\"text-align: right;\">\n",
       "      <th></th>\n",
       "      <th>Coefficients</th>\n",
       "      <th>Name</th>\n",
       "    </tr>\n",
       "  </thead>\n",
       "  <tbody>\n",
       "    <tr>\n",
       "      <th>10</th>\n",
       "      <td>0.359057</td>\n",
       "      <td>alcohol</td>\n",
       "    </tr>\n",
       "    <tr>\n",
       "      <th>1</th>\n",
       "      <td>0.316408</td>\n",
       "      <td>volatile acidity</td>\n",
       "    </tr>\n",
       "    <tr>\n",
       "      <th>9</th>\n",
       "      <td>0.306056</td>\n",
       "      <td>sulphates</td>\n",
       "    </tr>\n",
       "    <tr>\n",
       "      <th>4</th>\n",
       "      <td>0.224532</td>\n",
       "      <td>chlorides</td>\n",
       "    </tr>\n",
       "    <tr>\n",
       "      <th>6</th>\n",
       "      <td>0.184775</td>\n",
       "      <td>total sulfur dioxide</td>\n",
       "    </tr>\n",
       "    <tr>\n",
       "      <th>8</th>\n",
       "      <td>0.105068</td>\n",
       "      <td>pH</td>\n",
       "    </tr>\n",
       "    <tr>\n",
       "      <th>5</th>\n",
       "      <td>0.061931</td>\n",
       "      <td>free sulfur dioxide</td>\n",
       "    </tr>\n",
       "    <tr>\n",
       "      <th>0</th>\n",
       "      <td>0.056479</td>\n",
       "      <td>fixed acidity</td>\n",
       "    </tr>\n",
       "    <tr>\n",
       "      <th>7</th>\n",
       "      <td>0.048708</td>\n",
       "      <td>density</td>\n",
       "    </tr>\n",
       "    <tr>\n",
       "      <th>3</th>\n",
       "      <td>0.047687</td>\n",
       "      <td>residual sugar</td>\n",
       "    </tr>\n",
       "    <tr>\n",
       "      <th>2</th>\n",
       "      <td>0.036513</td>\n",
       "      <td>citric acid</td>\n",
       "    </tr>\n",
       "  </tbody>\n",
       "</table>\n",
       "</div>"
      ],
      "text/plain": [
       "    Coefficients                  Name\n",
       "10      0.359057               alcohol\n",
       "1       0.316408      volatile acidity\n",
       "9       0.306056             sulphates\n",
       "4       0.224532             chlorides\n",
       "6       0.184775  total sulfur dioxide\n",
       "8       0.105068                    pH\n",
       "5       0.061931   free sulfur dioxide\n",
       "0       0.056479         fixed acidity\n",
       "7       0.048708               density\n",
       "3       0.047687        residual sugar\n",
       "2       0.036513           citric acid"
      ]
     },
     "execution_count": 56,
     "metadata": {},
     "output_type": "execute_result"
    }
   ],
   "source": [
    "from sklearn import linear_model\n",
    "clf = linear_model.LinearRegression()\n",
    " \n",
    "# データフレームの各列を正規化\n",
    "df1s = df1.apply(lambda x: (x - np.mean(x)) / (np.max(x) - np.min(x)))\n",
    " \n",
    "# 説明変数に \"quality (品質スコア以外すべて)\" を利用\n",
    "df1s_except_quality = df1s.drop(\"quality\", axis=1)\n",
    "X = df1s_except_quality.as_matrix()\n",
    " \n",
    "# 目的変数に \"quality (品質スコア)\" を利用\n",
    "Y = df1s['quality'].as_matrix()\n",
    " \n",
    "# 予測モデルを作成\n",
    "clf.fit(X, Y)\n",
    " \n",
    "# 偏回帰係数\n",
    "pd.DataFrame({\"Name\":df1s_except_quality.columns,\n",
    "                    \"Coefficients\":np.abs(clf.coef_)}).sort('Coefficients', ascending=False) \n"
   ]
  },
  {
   "cell_type": "markdown",
   "metadata": {},
   "source": [
    "正規化した偏回帰係数を確認すると、alcohol (アルコール度数) が最も高い値を示し、品質に大きな影響を与えていることがわかります。"
   ]
  },
  {
   "cell_type": "markdown",
   "metadata": {
    "collapsed": true
   },
   "source": [
    "<h4 style=\"padding: 0.25em 0.5em;color: #494949;background: transparent;border-left: solid 5px #7db4e6;\"><a name=\"4\">練習5.1</a></h4>\n",
    "\n",
    "白ワインのデータ(https://raw.githubusercontent.com/chemo-wakate/tutorial-6th/master/beginner/data/winequality-white.txt) を読み込み、単回帰分析、重回帰分析を行なってください。"
   ]
  },
  {
   "cell_type": "code",
   "execution_count": null,
   "metadata": {
    "collapsed": true
   },
   "outputs": [],
   "source": [
    "# 練習5.1"
   ]
  }
 ],
 "metadata": {
  "kernelspec": {
   "display_name": "Python 3",
   "language": "python",
   "name": "python3"
  },
  "language_info": {
   "codemirror_mode": {
    "name": "ipython",
    "version": 3
   },
   "file_extension": ".py",
   "mimetype": "text/x-python",
   "name": "python",
   "nbconvert_exporter": "python",
   "pygments_lexer": "ipython3",
   "version": "3.4.5"
  }
 },
 "nbformat": 4,
 "nbformat_minor": 2
}
