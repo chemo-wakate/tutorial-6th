{
 "cells": [
  {
   "cell_type": "markdown",
   "metadata": {
    "slideshow": {
     "slide_type": "slide"
    }
   },
   "source": [
    "# ケモインフォマティクス入門講座初級編\n",
    "## Python基礎　2017年9月30日\n",
    "講師：小寺 正明（東京工業大学生命理工学院）"
   ]
  },
  {
   "cell_type": "markdown",
   "metadata": {
    "slideshow": {
     "slide_type": "slide"
    }
   },
   "source": [
    "## WHO ARE YOU??\n",
    "<a href=\"https://twitter.com/maskot1977\" target=\"_blank\"><img width=\"309\" alt=\"2017-09-06 16 05 42\" src=\"https://raw.githubusercontent.com/maskot1977/ipython_notebook/master/Mario-Twitter.png\"></a>"
   ]
  },
  {
   "cell_type": "markdown",
   "metadata": {
    "slideshow": {
     "slide_type": "slide"
    }
   },
   "source": [
    "### 今日やらないこと\n",
    "* 数学的基盤につきましては、ごく簡単にしか解説しません。Python での実行方法についてメインに取り扱います。\n",
    "* 描画は matplotlib を使っています。seaborn などをつかうともっと綺麗に描けますが説明しません。"
   ]
  },
  {
   "cell_type": "markdown",
   "metadata": {
    "collapsed": true,
    "slideshow": {
     "slide_type": "slide"
    }
   },
   "source": [
    "<h3 STYLE=\"background: #c2edff;padding: 0.5em;\"><a href=\"mario/distribution.ipynb\">Step 1. 分布</a></h3>\n",
    "\n",
    "<ol>\n",
    "<li><a href=\"mario/distribution.ipynb#1\">乱数と一様分布</a>\n",
    "<li><a href=\"mario/distribution.ipynb#2\">二項分布</a>\n",
    "<li><a href=\"mario/distribution.ipynb#3\">正規分布</a>\n",
    "</ol>"
   ]
  },
  {
   "cell_type": "markdown",
   "metadata": {
    "slideshow": {
     "slide_type": "subslide"
    }
   },
   "source": [
    "<h3 STYLE=\"background: #c2edff;padding: 0.5em;\"><a href=\"mario/statisticaltest.ipynb\">Step 2. 統計的検定</a></h3>\n",
    "\n",
    "<ol>\n",
    "<li><a href=\"mario/statisticaltest.ipynb#1\">カイ２乗検定</a>\n",
    "<li><a href=\"mario/statisticaltest.ipynb#2\">t検定</a>\n",
    "<li><a href=\"mario/statisticaltest.ipynb#3\">分散分析</a>\n",
    "</ol>"
   ]
  },
  {
   "cell_type": "markdown",
   "metadata": {
    "slideshow": {
     "slide_type": "fragment"
    }
   },
   "source": [
    "<h3 STYLE=\"background: #c2edff;padding: 0.5em;\"><a href=\"mario/overlook.ipynb\">Step 3. 実データの読み込みから俯瞰まで</a></h3>\n",
    "\n",
    "<ol>\n",
    "<li><a href=\"mario/overlook.ipynb#1\">「ワインの品質」データ読み込み</a>\n",
    "<li><a href=\"mario/overlook.ipynb#2\">ヒストグラム</a>\n",
    "<li><a href=\"mario/overlook.ipynb#3\">散布図</a>\n",
    "<li><a href=\"mario/overlook.ipynb#4\">散布図行列</a>\n",
    "<li><a href=\"mario/overlook.ipynb#5\">相関行列</a>\n",
    "<li><a href=\"mario/overlook.ipynb#7\">主成分分析</a>\n",
    "</ol>"
   ]
  },
  {
   "cell_type": "markdown",
   "metadata": {
    "collapsed": true,
    "slideshow": {
     "slide_type": "subslide"
    }
   },
   "source": [
    "<h3 STYLE=\"background: #c2edff;padding: 0.5em;\"><a href=\"mario/LinearAndMultipleRegressions.ipynb\">Step 4. 線形回帰</a></h3>\n",
    "\n",
    "<ol>\n",
    "<li><a href=\"mario/LinearAndMultipleRegressions.ipynb#1\">「ワインの品質」データ読み込み</a>\n",
    "<li><a href=\"mario/LinearAndMultipleRegressions.ipynb#2\">単回帰分析</a>\n",
    "<li><a href=\"mario/LinearAndMultipleRegressions.ipynb#3\">重回帰分析</a>\n",
    "</ol>"
   ]
  },
  {
   "cell_type": "markdown",
   "metadata": {
    "slideshow": {
     "slide_type": "fragment"
    }
   },
   "source": [
    "<h3 STYLE=\"background: #c2edff;padding: 0.5em;\"><a href=\"mario/MachineLearning.ipynb\">Step 5. 機械学習で二値分類</a></h3>\n",
    "\n",
    "<ol>\n",
    "<li><a href=\"mario/MachineLearning.ipynb#1\">「ワインの品質」データ読み込み</a>\n",
    "<li><a href=\"mario/MachineLearning.ipynb#2\">２群に分ける</a>\n",
    "<li><a href=\"mario/MachineLearning.ipynb#3\">説明変数と目的変数に分ける</a>\n",
    "<li><a href=\"mario/MachineLearning.ipynb#4\">訓練データとテストデータに分ける</a>\n",
    "<li><a href=\"mario/MachineLearning.ipynb#5\">ロジスティク回帰</a>\n",
    "<li><a href=\"mario/MachineLearning.ipynb#6\">いろんな機械学習手法を比較する</a>\n",
    "</ol>"
   ]
  }
 ],
 "metadata": {
  "celltoolbar": "Slideshow",
  "kernelspec": {
   "display_name": "Python 3",
   "language": "python",
   "name": "python3"
  },
  "language_info": {
   "codemirror_mode": {
    "name": "ipython",
    "version": 3
   },
   "file_extension": ".py",
   "mimetype": "text/x-python",
   "name": "python",
   "nbconvert_exporter": "python",
   "pygments_lexer": "ipython3",
   "version": "3.4.5"
  }
 },
 "nbformat": 4,
 "nbformat_minor": 2
}
