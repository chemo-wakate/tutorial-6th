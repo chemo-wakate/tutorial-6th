{
 "cells": [
  {
   "cell_type": "markdown",
   "metadata": {},
   "source": [
    "<h3 STYLE=\"background: #c2edff;padding: 0.5em;\"><a href=\"distribution.ipynb\">Step 1. 分布</a></h3>\n",
    "\n",
    "Step 1 で学ぶこと\n",
    "* 一様分布、二項分布、正規分布に従う乱数の発生\n",
    "* 図（ヒストグラム）の描き方\n",
    "\n",
    "※ 本講座では、Python での実行方法についてメインに取り扱います。数学的基盤につきましては、簡単にしか解説しません。"
   ]
  },
  {
   "cell_type": "markdown",
   "metadata": {},
   "source": [
    "<h3 STYLE=\"background: #c2edff;padding: 0.5em;\"><a href=\"statisticaltest.ipynb\">Step 2. 統計的検定</a></h3>\n",
    "\n",
    "Step 2 で学ぶこと\n",
    "* カイ２乗検定\n",
    "* 対応なしのt検定、対応ありのt検定\n",
    "* １要因の分散分析、２要因の分散分析\n",
    "\n",
    "※ 本講座では、Python での実行方法についてメインに取り扱います。数学的基盤につきましては、簡単にしか解説しません。"
   ]
  },
  {
   "cell_type": "markdown",
   "metadata": {},
   "source": [
    "<h3 STYLE=\"background: #c2edff;padding: 0.5em;\"><a href=\"UsingNumpyAndPandas.ipynb\">Step 3. Numpy と Pandas を用いた演算</a></h3>\n",
    "\n",
    "Step 3 で学ぶこと\n",
    "* 簡単な統計量や行列演算\n",
    "* 欠損値や重複の取り扱い\n",
    "\n",
    "※ 本講座では、Python での実行方法についてメインに取り扱います。数学的基盤につきましては、簡単にしか解説しません。"
   ]
  },
  {
   "cell_type": "markdown",
   "metadata": {},
   "source": [
    "<h3 STYLE=\"background: #c2edff;padding: 0.5em;\"><a href=\"ReadingTSV.ipynb\">Step 4. 実データの読み込みから俯瞰まで</a></h3>\n",
    "\n",
    "Step 4 で学ぶこと\n",
    "* タブ区切りデータの読み込み\n",
    "* ヒストグラム、散布図、散布図行列、相関行列\n",
    "\n",
    "※ 本講座では、Python での実行方法についてメインに取り扱います。数学的基盤につきましては、簡単にしか解説しません。"
   ]
  },
  {
   "cell_type": "code",
   "execution_count": null,
   "metadata": {
    "collapsed": true
   },
   "outputs": [],
   "source": []
  }
 ],
 "metadata": {
  "kernelspec": {
   "display_name": "Python 3",
   "language": "python",
   "name": "python3"
  },
  "language_info": {
   "codemirror_mode": {
    "name": "ipython",
    "version": 3
   },
   "file_extension": ".py",
   "mimetype": "text/x-python",
   "name": "python",
   "nbconvert_exporter": "python",
   "pygments_lexer": "ipython3",
   "version": "3.4.5"
  }
 },
 "nbformat": 4,
 "nbformat_minor": 2
}
