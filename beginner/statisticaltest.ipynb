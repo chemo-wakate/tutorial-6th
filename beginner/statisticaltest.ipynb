{
 "cells": [
  {
   "cell_type": "markdown",
   "metadata": {},
   "source": [
    "<h1 STYLE=\"background: #c2edff;padding: 0.5em;\">Step 2. 統計的検定</h1>\n",
    "\n",
    "<ol>\n",
    "<li><a href=\"#1\">カイ２乗検定</a>\n",
    "<li><a href=\"#2\">t検定</a>\n",
    "<li><a href=\"#3\">分散分析</a>\n",
    "</ol>"
   ]
  },
  {
   "cell_type": "markdown",
   "metadata": {},
   "source": [
    "<h2 STYLE=\"background: #c2edff;padding: 0.5em;\"><a name=\"1\">2.1 カイ２乗検定</a></h2>\n",
    "\n",
    "カイ２乗検定は、２つの分布が同じかどうかを検定するときに用いる手法です。\n",
    "\n",
    "サイコロを60回ふり、各目が出た回数を数えたところ、次のようになりました。\n",
    "\n",
    "<table border=1>\n",
    "<tr><td>サイコロの目</td>\n",
    "<td>１</td><td>２</td><td>３</td><td>４</td><td>５</td><td>６</td></tr>\n",
    "<tr><td>出現回数</td>\n",
    "<td>17</td><td>10</td><td>6</td><td>7</td><td>15</td><td>5</td></tr>\n",
    "</table>\n",
    "\n",
    "このとき、理論値の分布（一様分布）に従うかどうかを検定してみましょう。"
   ]
  },
  {
   "cell_type": "code",
   "execution_count": 1,
   "metadata": {
    "collapsed": false
   },
   "outputs": [
    {
     "name": "stdout",
     "output_type": "stream",
     "text": [
      "chi2 値は 12.4\n",
      "確率は 0.0296994592035\n",
      "有意水準 0.05 で、有意な差があります\n"
     ]
    }
   ],
   "source": [
    "from scipy import stats\n",
    "\n",
    "significance = 0.05\n",
    "o = [17, 10, 6, 7, 15, 5] # 実測値\n",
    "e = [10, 10, 10, 10, 10, 10] # 理論値\n",
    "\n",
    "chi2, p = stats.chisquare(o, f_exp = e)\n",
    "\n",
    "print( \"chi2 値は %(chi2)s\" %locals() )\n",
    "print( \"確率は %(p)s\" %locals() )\n",
    "\n",
    "if p < significance:\n",
    "    print(\"有意水準 %(significance)s で、有意な差があります\" %locals())\n",
    "else:\n",
    "    print(\"有意水準 %(significance)s で、有意な差がありません\" %locals())"
   ]
  },
  {
   "cell_type": "markdown",
   "metadata": {},
   "source": [
    "<h4 style=\"padding: 0.25em 0.5em;color: #494949;background: transparent;border-left: solid 5px #7db4e6;\">練習2.1</h4>\n",
    "\n",
    "ある野菜をＡ方式で育てたものとＢ方式で育てたものの出荷時の等級が次の表のようになったとき，これらの育て方と製品の等級には関連があると見るべきかどうか\n",
    "\n",
    "<table border=\"1\" bgcolor=\"#FFFFFF\" cellpadding=\"0\" cellspacing=\"0\" align=\"center\">\n",
    "  <tr> \n",
    "    <th width=\"100\" height=\"30\" bgcolor=\"#CCCC99\"></th>\n",
    "    <th width=\"81\" height=\"30\" bgcolor=\"#FFFFCC\"> 優 </th>\n",
    "    <th width=\"100\" height=\"30\" bgcolor=\"#FFCCCC\"> 良 </th>\n",
    "    <th width=\"100\" height=\"30\" bgcolor=\"#99FFCC\"> 可 </th>\n",
    "    <th width=\"100\" height=\"30\" bgcolor=\"#CCCCCC\">計</th>\n",
    "  </tr>\n",
    "  <tr align=\"center\"> \n",
    "    <td width=\"100\" height=\"30\" bgcolor=\"#CCCC99\"> Ａ方式 </td>\n",
    "    <td width=\"100\" height=\"30\" bgcolor=\"#FFFFFF\"> 12</td>\n",
    "    <td width=\"100\" height=\"30\" bgcolor=\"#FFFFFF\">30</td>\n",
    "    <td width=\"100\" height=\"30\" bgcolor=\"#FFFFFF\">58</td>\n",
    "    <td width=\"100\" height=\"30\" bgcolor=\"#CCCCCC\">100</td>\n",
    "  </tr>\n",
    "  <tr align=\"center\"> \n",
    "    <td width=\"119\" height=\"30\" bgcolor=\"#CCCC99\"> B方式 </td>\n",
    "    <td width=\"81\" height=\"30\" bgcolor=\"#FFFFFF\"> 14</td>\n",
    "    <td width=\"100\" height=\"30\" bgcolor=\"#FFFFFF\">90</td>\n",
    "    <td width=\"100\" height=\"30\" bgcolor=\"#FFFFFF\">96</td>\n",
    "    <td width=\"100\" height=\"30\" bgcolor=\"#CCCCCC\">200</td>\n",
    "  </tr>\n",
    "  <tr align=\"center\" bgcolor=\"#CCCCCC\"> \n",
    "    <td width=\"119\" height=\"30\">計</td>\n",
    "    <td width=\"81\" height=\"30\">26</td>\n",
    "    <td width=\"100\" height=\"30\">120</td>\n",
    "    <td width=\"100\" height=\"30\">154</td>\n",
    "    <td width=\"100\" height=\"30\">300</td>\n",
    "  </tr>\n",
    "</table>"
   ]
  },
  {
   "cell_type": "code",
   "execution_count": 2,
   "metadata": {
    "collapsed": false
   },
   "outputs": [],
   "source": [
    "# 練習2.1"
   ]
  },
  {
   "cell_type": "markdown",
   "metadata": {
    "collapsed": true
   },
   "source": [
    "<h2 STYLE=\"background: #c2edff;padding: 0.5em;\"><a name=\"2\">9.2 t検定</a></h2>"
   ]
  },
  {
   "cell_type": "code",
   "execution_count": 3,
   "metadata": {
    "collapsed": false
   },
   "outputs": [
    {
     "name": "stdout",
     "output_type": "stream",
     "text": [
      "t 値は -3.21404314682\n",
      "確率は 0.0062436950143\n",
      "有意水準 0.05 で、有意な差があります\n"
     ]
    }
   ],
   "source": [
    "# 対応のないt検定\n",
    "import numpy as np\n",
    "import scipy as sp\n",
    "from scipy import stats\n",
    "\n",
    "significance = 0.05\n",
    "X = [68, 75, 80, 71, 73, 79, 69, 65]\n",
    "Y = [86, 83, 76, 81, 75, 82, 87, 75]\n",
    "\n",
    "t, p = stats.ttest_ind(X, Y)\n",
    "\n",
    "print( \"t 値は %(t)s\" %locals() )\n",
    "print( \"確率は %(p)s\" %locals() )\n",
    "\n",
    "if p < significance:\n",
    "    print(\"有意水準 %(significance)s で、有意な差があります\" %locals())\n",
    "else:\n",
    "    print(\"有意水準 %(significance)s で、有意な差がありません\" %locals())"
   ]
  },
  {
   "cell_type": "markdown",
   "metadata": {},
   "source": [
    "<h4 style=\"padding: 0.25em 0.5em;color: #494949;background: transparent;border-left: solid 5px #7db4e6;\">練習2.2</h4>\n",
    "\n",
    "６年１組と６年２組の２つのクラスで同一の算数のテストを行い、採点結果が出ました。２つのクラスで点数に差があるかどうか検定してください。\n",
    "\n",
    "<table border=\"1\" bgcolor=\"#FFFFFF\" cellpadding=\"0\" cellspacing=\"0\" align=\"center\">\n",
    "  <tr align=\"center\"> \n",
    "    <th width=\"120\" height=\"30\" bgcolor=\"#ffffcc\"> ６年１組</th>\n",
    "    <th width=\"120\" height=\"30\" bgcolor=\"#ffffcc\"> 点数</th>\n",
    "    <th width=\"120\" height=\"30\" bgcolor=\"#ffcccc\"> ６年２組</th>\n",
    "    <th width=\"120\" height=\"30\" bgcolor=\"#ffcccc\"> 点数</th>\n",
    "  </tr>\n",
    "  <tr align=\"center\"> \n",
    "    <td width=\"120\" height=\"30\" bgcolor=\"#cccccc\"> 1</td>\n",
    "    <td width=\"120\" height=\"30\" bgcolor=\"#FFFFFF\"> 70</td>\n",
    "    <td width=\"120\" height=\"30\" bgcolor=\"#cccccc\"> 1</td>\n",
    "    <td width=\"120\" height=\"30\"> 85</td>\n",
    "  </tr>\n",
    "  <tr align=\"center\"> \n",
    "    <td width=\"120\" height=\"30\" bgcolor=\"#cccccc\">2</td>\n",
    "    <td width=\"120\" height=\"30\" bgcolor=\"#FFFFFF\">75</td>\n",
    "    <td width=\"120\" height=\"30\" bgcolor=\"#cccccc\">2</td>\n",
    "    <td width=\"120\" height=\"30\">80</td>\n",
    "  </tr>\n",
    "  <tr align=\"center\"> \n",
    "    <td width=\"120\" height=\"30\" bgcolor=\"#cccccc\">3</td>\n",
    "    <td width=\"120\" height=\"30\" bgcolor=\"#FFFFFF\">70</td>\n",
    "    <td width=\"120\" height=\"30\" bgcolor=\"#cccccc\">3</td>\n",
    "    <td width=\"120\" height=\"30\">95</td>\n",
    "  </tr>\n",
    "  <tr align=\"center\"> \n",
    "    <td width=\"120\" height=\"30\" bgcolor=\"#cccccc\">4</td>\n",
    "    <td width=\"120\" height=\"30\" bgcolor=\"#FFFFFF\">85</td>\n",
    "    <td width=\"120\" height=\"30\" bgcolor=\"#cccccc\">4</td>\n",
    "    <td width=\"120\" height=\"30\">70</td>\n",
    "  </tr>\n",
    "  <tr align=\"center\"> \n",
    "    <td width=\"120\" height=\"30\" bgcolor=\"#cccccc\">5</td>\n",
    "    <td width=\"120\" height=\"30\" bgcolor=\"#FFFFFF\">90</td>\n",
    "    <td width=\"120\" height=\"30\" bgcolor=\"#cccccc\">5</td>\n",
    "    <td width=\"120\" height=\"30\">80</td>\n",
    "  </tr>\n",
    "  <tr align=\"center\"> \n",
    "    <td width=\"120\" height=\"30\" bgcolor=\"#cccccc\">6</td>\n",
    "    <td width=\"120\" height=\"30\" bgcolor=\"#FFFFFF\">70</td>\n",
    "    <td width=\"120\" height=\"30\" bgcolor=\"#cccccc\">6</td>\n",
    "    <td width=\"120\" height=\"30\">75</td>\n",
    "  </tr>\n",
    "  <tr align=\"center\"> \n",
    "    <td width=\"120\" height=\"30\" bgcolor=\"#cccccc\">7</td>\n",
    "    <td width=\"120\" height=\"30\" bgcolor=\"#FFFFFF\">80</td>\n",
    "    <td width=\"120\" height=\"30\" bgcolor=\"#cccccc\">7</td>\n",
    "    <td width=\"120\" height=\"30\">80</td>\n",
    "  </tr>\n",
    "  <tr align=\"center\"> \n",
    "    <td width=\"120\" height=\"30\" bgcolor=\"#cccccc\">8</td>\n",
    "    <td width=\"120\" height=\"30\" bgcolor=\"#FFFFFF\">75</td>\n",
    "    <td width=\"120\" height=\"30\" bgcolor=\"#cccccc\">8</td>\n",
    "    <td width=\"120\" height=\"30\">90</td>\n",
    "  </tr>\n",
    "</table>"
   ]
  },
  {
   "cell_type": "code",
   "execution_count": 4,
   "metadata": {
    "collapsed": true
   },
   "outputs": [],
   "source": [
    "class_one = [70, 75, 70, 85, 90, 70, 80, 75]\n",
    "class_two = [85, 80, 95, 70, 80, 75, 80, 90] "
   ]
  },
  {
   "cell_type": "code",
   "execution_count": 5,
   "metadata": {
    "collapsed": true
   },
   "outputs": [],
   "source": [
    "# 練習2.2"
   ]
  },
  {
   "cell_type": "markdown",
   "metadata": {},
   "source": [
    "<h4 style=\"border-bottom: solid 1px black;\">対応のある t検定</h4>"
   ]
  },
  {
   "cell_type": "code",
   "execution_count": 6,
   "metadata": {
    "collapsed": false
   },
   "outputs": [
    {
     "name": "stdout",
     "output_type": "stream",
     "text": [
      "t 値は -2.99232037543\n",
      "確率は 0.0201600161737\n",
      "有意水準 0.05 で、有意な差があります\n"
     ]
    }
   ],
   "source": [
    "# 対応のあるt検定\n",
    "import numpy as np\n",
    "import scipy as sp\n",
    "from scipy import stats\n",
    "\n",
    "significance = 0.05\n",
    "X = [68, 75, 80, 71, 73, 79, 69, 65]\n",
    "Y = [86, 83, 76, 81, 75, 82, 87, 75]\n",
    "\n",
    "t, p = stats.ttest_rel(X, Y)\n",
    "\n",
    "print( \"t 値は %(t)s\" %locals() )\n",
    "print( \"確率は %(p)s\" %locals() )\n",
    "\n",
    "if p < significance:\n",
    "    print(\"有意水準 %(significance)s で、有意な差があります\" %locals())\n",
    "else:\n",
    "    print(\"有意水準 %(significance)s で、有意な差がありません\" %locals())"
   ]
  },
  {
   "cell_type": "markdown",
   "metadata": {},
   "source": [
    "<h4 style=\"padding: 0.25em 0.5em;color: #494949;background: transparent;border-left: solid 5px #7db4e6;\">練習2.3</h4>\n",
    "\n",
    "国語と算数の点数に差があるかどうか検定してください。\n",
    "\n",
    "<table border=\"1\" bgcolor=\"#FFFFFF\" cellpadding=\"0\" cellspacing=\"0\" align=\"center\">\n",
    "  <tr align=\"center\"> \n",
    "    <th width=\"120\" height=\"30\" bgcolor=\"#ffffcc\">６年１組</th>\n",
    "    <th width=\"120\" height=\"30\" bgcolor=\"#ffffcc\">国語</th>\n",
    "    <th width=\"120\" height=\"30\" bgcolor=\"#ffcccc\">算数</th>\n",
    "  </tr>\n",
    "  <tr align=\"center\"> \n",
    "    <td width=\"120\" height=\"30\" bgcolor=\"#cccccc\"> 1</td>\n",
    "    <td width=\"120\" height=\"30\" bgcolor=\"#FFFFFF\"> 90</td>\n",
    "    <td width=\"120\" height=\"30\"> 95</td>\n",
    "  </tr>\n",
    "  <tr align=\"center\"> \n",
    "    <td width=\"120\" height=\"30\" bgcolor=\"#cccccc\">2</td>\n",
    "    <td width=\"120\" height=\"30\" bgcolor=\"#FFFFFF\">75</td>\n",
    "    <td width=\"120\" height=\"30\">80</td>\n",
    "  </tr>\n",
    "  <tr align=\"center\"> \n",
    "    <td width=\"120\" height=\"30\" bgcolor=\"#cccccc\">3</td>\n",
    "    <td width=\"120\" height=\"30\" bgcolor=\"#FFFFFF\">75</td>\n",
    "    <td width=\"120\" height=\"30\">80</td>\n",
    "  </tr>\n",
    "  <tr align=\"center\"> \n",
    "    <td width=\"120\" height=\"30\" bgcolor=\"#cccccc\">4</td>\n",
    "    <td width=\"120\" height=\"30\" bgcolor=\"#FFFFFF\">75</td>\n",
    "    <td width=\"120\" height=\"30\">80</td>\n",
    "  </tr>\n",
    "  <tr align=\"center\"> \n",
    "    <td width=\"120\" height=\"30\" bgcolor=\"#cccccc\">5</td>\n",
    "    <td width=\"120\" height=\"30\" bgcolor=\"#FFFFFF\">80</td>\n",
    "    <td width=\"120\" height=\"30\">75</td>\n",
    "  </tr>\n",
    "  <tr align=\"center\"> \n",
    "    <td width=\"120\" height=\"30\" bgcolor=\"#cccccc\">6</td>\n",
    "    <td width=\"120\" height=\"30\" bgcolor=\"#FFFFFF\">65</td>\n",
    "    <td width=\"120\" height=\"30\">75</td>\n",
    "  </tr>\n",
    "  <tr align=\"center\"> \n",
    "    <td width=\"120\" height=\"30\" bgcolor=\"#cccccc\">7</td>\n",
    "    <td width=\"120\" height=\"30\" bgcolor=\"#FFFFFF\">75</td>\n",
    "    <td width=\"120\" height=\"30\">80</td>\n",
    "  </tr>\n",
    "  <tr align=\"center\"> \n",
    "    <td width=\"120\" height=\"30\" bgcolor=\"#cccccc\">8</td>\n",
    "    <td width=\"120\" height=\"30\" bgcolor=\"#FFFFFF\">80</td>\n",
    "    <td width=\"120\" height=\"30\">85</td>\n",
    "  </tr>\n",
    "</table>"
   ]
  },
  {
   "cell_type": "code",
   "execution_count": 7,
   "metadata": {
    "collapsed": true
   },
   "outputs": [],
   "source": [
    "kokugo =   [90, 75, 75, 75, 80, 65, 75, 80]\n",
    "sansuu = [95, 80, 80, 80, 75, 75, 80, 85]"
   ]
  },
  {
   "cell_type": "code",
   "execution_count": 8,
   "metadata": {
    "collapsed": true
   },
   "outputs": [],
   "source": [
    "# 練習2.3"
   ]
  },
  {
   "cell_type": "markdown",
   "metadata": {},
   "source": [
    "<h2 STYLE=\"background: #c2edff;padding: 0.5em;\"><a name=\"3\">2.3 分散分析</a></h2>"
   ]
  },
  {
   "cell_type": "code",
   "execution_count": 9,
   "metadata": {
    "collapsed": false
   },
   "outputs": [
    {
     "name": "stdout",
     "output_type": "stream",
     "text": [
      "f 値は 0.0986151666715\n",
      "確率は 0.906416171656\n",
      "有意水準 0.05 で、有意な差がありません\n"
     ]
    }
   ],
   "source": [
    "# 1要因の分散分析\n",
    "import numpy as np\n",
    "import scipy as sp\n",
    "from scipy import stats\n",
    "\n",
    "significance = 0.05\n",
    "a = [34, 39, 50, 72, 54, 50, 58, 64, 55, 62]\n",
    "b = [63, 75, 50, 54, 66, 31, 39, 45, 48, 60]\n",
    "c = [49, 36, 46, 56, 52, 46, 52, 68, 49, 62]\n",
    "f, p = stats.f_oneway(a, b, c)\n",
    "\n",
    "print( \"f 値は %(f)s\" %locals() )\n",
    "print( \"確率は %(p)s\" %locals() )\n",
    "\n",
    "if p < significance:\n",
    "    print(\"有意水準 %(significance)s で、有意な差があります\" %locals())\n",
    "else:\n",
    "    print(\"有意水準 %(significance)s で、有意な差がありません\" %locals())"
   ]
  },
  {
   "cell_type": "markdown",
   "metadata": {},
   "source": [
    "<h4 style=\"padding: 0.25em 0.5em;color: #494949;background: transparent;border-left: solid 5px #7db4e6;\">練習2.4</h4>\n",
    "\n",
    "下記のデータを用いて、分散分析を行ってください。"
   ]
  },
  {
   "cell_type": "code",
   "execution_count": 10,
   "metadata": {
    "collapsed": true
   },
   "outputs": [],
   "source": [
    "group1 = [80, 75, 80, 90, 95, 80, 80, 85, 85, 80, 90, 80, 75, 90, 85, 85, 90, 90, 85, 80]\n",
    "group2 = [75, 70, 80, 85, 90, 75, 85, 80, 80, 75, 80, 75, 70, 85, 80, 75, 80, 80, 90, 80]\n",
    "group3 = [80, 80, 80, 90, 95, 85, 95, 90, 85, 90, 95, 85, 98, 95, 85, 85, 90, 90, 85, 85]"
   ]
  },
  {
   "cell_type": "code",
   "execution_count": 11,
   "metadata": {
    "collapsed": true
   },
   "outputs": [],
   "source": [
    "# 練習2.4"
   ]
  }
 ],
 "metadata": {
  "kernelspec": {
   "display_name": "Python 3",
   "language": "python",
   "name": "python3"
  },
  "language_info": {
   "codemirror_mode": {
    "name": "ipython",
    "version": 3
   },
   "file_extension": ".py",
   "mimetype": "text/x-python",
   "name": "python",
   "nbconvert_exporter": "python",
   "pygments_lexer": "ipython3",
   "version": "3.4.5"
  }
 },
 "nbformat": 4,
 "nbformat_minor": 0
}
