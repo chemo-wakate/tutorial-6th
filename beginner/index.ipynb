{
 "cells": [
  {
   "cell_type": "markdown",
   "metadata": {},
   "source": [
    "<h4 style=\"border-bottom: solid 1px black;\">本講座で説明しないこと</h4>\n",
    "* 数学的基盤につきましては、ごく簡単にしか解説しません。Python での実行方法についてメインに取り扱います。\n",
    "* 描画は matplotlib を使っています。seaborn などをつかうともっと綺麗に描けますが説明しません。\n",
    "\n",
    "<h3 STYLE=\"background: #c2edff;padding: 0.5em;\"><a href=\"distribution.ipynb\">Step 1. 分布</a></h3>\n",
    "\n",
    "<ol>\n",
    "<li><a href=\"distribution.ipynb#1\">乱数と一様分布</a>\n",
    "<li><a href=\"distribution.ipynb#2\">二項分布</a>\n",
    "<li><a href=\"distribution.ipynb#3\">正規分布</a>\n",
    "</ol>"
   ]
  },
  {
   "cell_type": "markdown",
   "metadata": {},
   "source": [
    "<h3 STYLE=\"background: #c2edff;padding: 0.5em;\"><a href=\"statisticaltest.ipynb\">Step 2. 統計的検定</a></h3>\n",
    "\n",
    "<ol>\n",
    "<li><a href=\"statisticaltest.ipynb#1\">カイ２乗検定</a>\n",
    "<li><a href=\"statisticaltest.ipynb#2\">t検定</a>\n",
    "<li><a href=\"statisticaltest.ipynb#3\">分散分析</a>\n",
    "</ol>"
   ]
  },
  {
   "cell_type": "markdown",
   "metadata": {},
   "source": [
    "<h3 STYLE=\"background: #c2edff;padding: 0.5em;\"><a href=\"overlook.ipynb\">Step 3. 実データの読み込みから俯瞰まで</a></h3>\n",
    "\n",
    "<ol>\n",
    "<li><a href=\"overlook.ipynb#1\">「ワインの品質」データ読み込み</a>\n",
    "<li><a href=\"overlook.ipynb#2\">ヒストグラム</a>\n",
    "<li><a href=\"overlook.ipynb#3\">散布図</a>\n",
    "<li><a href=\"overlook.ipynb#4\">散布図行列</a>\n",
    "<li><a href=\"overlook.ipynb#5\">相関行列</a>\n",
    "<li><a href=\"overlook.ipynb#7\">主成分分析</a>\n",
    "</ol>"
   ]
  },
  {
   "cell_type": "markdown",
   "metadata": {
    "collapsed": true
   },
   "source": [
    "<h3 STYLE=\"background: #c2edff;padding: 0.5em;\"><a href=\"LinearAndMultipleRegressions.ipynb\">Step 4. 線形回帰</a></h3>\n",
    "\n",
    "<ol>\n",
    "<li><a href=\"LinearAndMultipleRegressions.ipynb#1\">「ワインの品質」データ読み込み</a>\n",
    "<li><a href=\"LinearAndMultipleRegressions.ipynb#2\">単回帰分析</a>\n",
    "<li><a href=\"LinearAndMultipleRegressions.ipynb#3\">重回帰分析</a>\n",
    "</ol>"
   ]
  },
  {
   "cell_type": "markdown",
   "metadata": {},
   "source": [
    "<h3 STYLE=\"background: #c2edff;padding: 0.5em;\"><a href=\"MachineLearning.ipynb\">Step 5. 機械学習で二値分類</a></h3>\n",
    "\n",
    "<ol>\n",
    "<li><a href=\"MachineLearning.ipynb#1\">「ワインの品質」データ読み込み</a>\n",
    "<li><a href=\"MachineLearning.ipynb#2\">２群に分ける</a>\n",
    "<li><a href=\"MachineLearning.ipynb#3\">説明変数と目的変数に分ける</a>\n",
    "<li><a href=\"MachineLearning.ipynb#4\">訓練データとテストデータに分ける</a>\n",
    "<li><a href=\"MachineLearning.ipynb#5\">ロジスティク回帰</a>\n",
    "<li><a href=\"MachineLearning.ipynb#6\">いろんな機械学習手法を比較する</a>\n",
    "</ol>"
   ]
  }
 ],
 "metadata": {
  "kernelspec": {
   "display_name": "Python 3",
   "language": "python",
   "name": "python3"
  },
  "language_info": {
   "codemirror_mode": {
    "name": "ipython",
    "version": 3
   },
   "file_extension": ".py",
   "mimetype": "text/x-python",
   "name": "python",
   "nbconvert_exporter": "python",
   "pygments_lexer": "ipython3",
   "version": "3.4.5"
  }
 },
 "nbformat": 4,
 "nbformat_minor": 2
}
